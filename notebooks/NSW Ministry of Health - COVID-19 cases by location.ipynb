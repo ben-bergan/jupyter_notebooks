{
 "cells": [
  {
   "cell_type": "markdown",
   "metadata": {},
   "source": [
    "### Importing libraries to conduct the EDA"
   ]
  },
  {
   "cell_type": "code",
   "execution_count": 1,
   "metadata": {},
   "outputs": [],
   "source": [
    "import pandas as pd\n",
    "import matplotlib.pyplot as plt\n",
    "%matplotlib inline"
   ]
  },
  {
   "cell_type": "markdown",
   "metadata": {},
   "source": [
    "#### Exploring COVID-19 cases by location and likely source of infection (NSW)\n",
    "Data Source - [data.gov.au](https://data.gov.au/dataset/ds-nsw-97ea2424-abaf-4f3e-a9f2-b5c883f42b6a/details?q=)"
   ]
  },
  {
   "cell_type": "code",
   "execution_count": 2,
   "metadata": {},
   "outputs": [],
   "source": [
    "df = pd.read_csv('covid-19-cases-by-notification-date-location-and-likely-source-of-infection.csv')"
   ]
  },
  {
   "cell_type": "markdown",
   "metadata": {},
   "source": [
    "### Exploring the data"
   ]
  },
  {
   "cell_type": "code",
   "execution_count": 14,
   "metadata": {},
   "outputs": [
    {
     "data": {
      "text/plain": [
       "'2020-07-19'"
      ]
     },
     "execution_count": 14,
     "metadata": {},
     "output_type": "execute_result"
    }
   ],
   "source": [
    "#df.head(5)\n",
    "#df.tail(20)\n",
    "#df.shape\n",
    "#df.dtypes\n",
    "#df.describe() \n",
    "#df.notification_date.min()\n",
    "#df.notification_date.max()\n",
    "#df.notification_date.value_counts()"
   ]
  },
  {
   "cell_type": "markdown",
   "metadata": {},
   "source": [
    "### Sorting, Filtering and Grouping the data"
   ]
  },
  {
   "cell_type": "markdown",
   "metadata": {},
   "source": [
    "#### Sorting the data using a column reference"
   ]
  },
  {
   "cell_type": "code",
   "execution_count": 16,
   "metadata": {},
   "outputs": [
    {
     "data": {
      "text/html": [
       "<div>\n",
       "<style scoped>\n",
       "    .dataframe tbody tr th:only-of-type {\n",
       "        vertical-align: middle;\n",
       "    }\n",
       "\n",
       "    .dataframe tbody tr th {\n",
       "        vertical-align: top;\n",
       "    }\n",
       "\n",
       "    .dataframe thead th {\n",
       "        text-align: right;\n",
       "    }\n",
       "</style>\n",
       "<table border=\"1\" class=\"dataframe\">\n",
       "  <thead>\n",
       "    <tr style=\"text-align: right;\">\n",
       "      <th></th>\n",
       "      <th>notification_date</th>\n",
       "      <th>postcode</th>\n",
       "      <th>likely_source_of_infection</th>\n",
       "      <th>lhd_2010_code</th>\n",
       "      <th>lhd_2010_name</th>\n",
       "      <th>lga_code19</th>\n",
       "      <th>lga_name19</th>\n",
       "    </tr>\n",
       "  </thead>\n",
       "  <tbody>\n",
       "    <tr>\n",
       "      <th>3315</th>\n",
       "      <td>2020-07-13</td>\n",
       "      <td>2170.0</td>\n",
       "      <td>Locally acquired - contact of a confirmed case...</td>\n",
       "      <td>X710</td>\n",
       "      <td>South Western Sydney</td>\n",
       "      <td>14900.0</td>\n",
       "      <td>Liverpool (C)</td>\n",
       "    </tr>\n",
       "    <tr>\n",
       "      <th>3310</th>\n",
       "      <td>2020-07-13</td>\n",
       "      <td>2571.0</td>\n",
       "      <td>Locally acquired - contact of a confirmed case...</td>\n",
       "      <td>X710</td>\n",
       "      <td>South Western Sydney</td>\n",
       "      <td>18400.0</td>\n",
       "      <td>Wollondilly (A)</td>\n",
       "    </tr>\n",
       "    <tr>\n",
       "      <th>3305</th>\n",
       "      <td>2020-07-13</td>\n",
       "      <td>2560.0</td>\n",
       "      <td>Locally acquired - contact of a confirmed case...</td>\n",
       "      <td>X710</td>\n",
       "      <td>South Western Sydney</td>\n",
       "      <td>11500.0</td>\n",
       "      <td>Campbelltown (C) (NSW)</td>\n",
       "    </tr>\n",
       "    <tr>\n",
       "      <th>3306</th>\n",
       "      <td>2020-07-13</td>\n",
       "      <td>2571.0</td>\n",
       "      <td>Locally acquired - contact of a confirmed case...</td>\n",
       "      <td>X710</td>\n",
       "      <td>South Western Sydney</td>\n",
       "      <td>18400.0</td>\n",
       "      <td>Wollondilly (A)</td>\n",
       "    </tr>\n",
       "    <tr>\n",
       "      <th>3308</th>\n",
       "      <td>2020-07-13</td>\n",
       "      <td>2560.0</td>\n",
       "      <td>Locally acquired - contact of a confirmed case...</td>\n",
       "      <td>X710</td>\n",
       "      <td>South Western Sydney</td>\n",
       "      <td>11500.0</td>\n",
       "      <td>Campbelltown (C) (NSW)</td>\n",
       "    </tr>\n",
       "  </tbody>\n",
       "</table>\n",
       "</div>"
      ],
      "text/plain": [
       "     notification_date  postcode  \\\n",
       "3315        2020-07-13    2170.0   \n",
       "3310        2020-07-13    2571.0   \n",
       "3305        2020-07-13    2560.0   \n",
       "3306        2020-07-13    2571.0   \n",
       "3308        2020-07-13    2560.0   \n",
       "\n",
       "                             likely_source_of_infection lhd_2010_code  \\\n",
       "3315  Locally acquired - contact of a confirmed case...          X710   \n",
       "3310  Locally acquired - contact of a confirmed case...          X710   \n",
       "3305  Locally acquired - contact of a confirmed case...          X710   \n",
       "3306  Locally acquired - contact of a confirmed case...          X710   \n",
       "3308  Locally acquired - contact of a confirmed case...          X710   \n",
       "\n",
       "             lhd_2010_name  lga_code19              lga_name19  \n",
       "3315  South Western Sydney     14900.0           Liverpool (C)  \n",
       "3310  South Western Sydney     18400.0         Wollondilly (A)  \n",
       "3305  South Western Sydney     11500.0  Campbelltown (C) (NSW)  \n",
       "3306  South Western Sydney     18400.0         Wollondilly (A)  \n",
       "3308  South Western Sydney     11500.0  Campbelltown (C) (NSW)  "
      ]
     },
     "execution_count": 16,
     "metadata": {},
     "output_type": "execute_result"
    }
   ],
   "source": [
    "df.sort_values('notification_date',ascending=False).head(5)"
   ]
  },
  {
   "cell_type": "code",
   "execution_count": 17,
   "metadata": {},
   "outputs": [
    {
     "data": {
      "text/html": [
       "<div>\n",
       "<style scoped>\n",
       "    .dataframe tbody tr th:only-of-type {\n",
       "        vertical-align: middle;\n",
       "    }\n",
       "\n",
       "    .dataframe tbody tr th {\n",
       "        vertical-align: top;\n",
       "    }\n",
       "\n",
       "    .dataframe thead th {\n",
       "        text-align: right;\n",
       "    }\n",
       "</style>\n",
       "<table border=\"1\" class=\"dataframe\">\n",
       "  <thead>\n",
       "    <tr style=\"text-align: right;\">\n",
       "      <th></th>\n",
       "      <th>notification_date</th>\n",
       "      <th>postcode</th>\n",
       "      <th>likely_source_of_infection</th>\n",
       "      <th>lhd_2010_code</th>\n",
       "      <th>lhd_2010_name</th>\n",
       "      <th>lga_code19</th>\n",
       "      <th>lga_name19</th>\n",
       "    </tr>\n",
       "  </thead>\n",
       "  <tbody>\n",
       "    <tr>\n",
       "      <th>2</th>\n",
       "      <td>2020-01-25</td>\n",
       "      <td>2071.0</td>\n",
       "      <td>Overseas</td>\n",
       "      <td>X760</td>\n",
       "      <td>Northern Sydney</td>\n",
       "      <td>14500.0</td>\n",
       "      <td>Ku-ring-gai (A)</td>\n",
       "    </tr>\n",
       "    <tr>\n",
       "      <th>1</th>\n",
       "      <td>2020-01-25</td>\n",
       "      <td>2121.0</td>\n",
       "      <td>Overseas</td>\n",
       "      <td>X760</td>\n",
       "      <td>Northern Sydney</td>\n",
       "      <td>16260.0</td>\n",
       "      <td>Parramatta (C)</td>\n",
       "    </tr>\n",
       "    <tr>\n",
       "      <th>0</th>\n",
       "      <td>2020-01-25</td>\n",
       "      <td>2134.0</td>\n",
       "      <td>Overseas</td>\n",
       "      <td>X700</td>\n",
       "      <td>Sydney</td>\n",
       "      <td>11300.0</td>\n",
       "      <td>Burwood (A)</td>\n",
       "    </tr>\n",
       "    <tr>\n",
       "      <th>3</th>\n",
       "      <td>2020-01-27</td>\n",
       "      <td>2033.0</td>\n",
       "      <td>Overseas</td>\n",
       "      <td>X720</td>\n",
       "      <td>South Eastern Sydney</td>\n",
       "      <td>16550.0</td>\n",
       "      <td>Randwick (C)</td>\n",
       "    </tr>\n",
       "    <tr>\n",
       "      <th>5</th>\n",
       "      <td>2020-03-01</td>\n",
       "      <td>2077.0</td>\n",
       "      <td>Overseas</td>\n",
       "      <td>X760</td>\n",
       "      <td>Northern Sydney</td>\n",
       "      <td>14000.0</td>\n",
       "      <td>Hornsby (A)</td>\n",
       "    </tr>\n",
       "  </tbody>\n",
       "</table>\n",
       "</div>"
      ],
      "text/plain": [
       "  notification_date  postcode likely_source_of_infection lhd_2010_code  \\\n",
       "2        2020-01-25    2071.0                   Overseas          X760   \n",
       "1        2020-01-25    2121.0                   Overseas          X760   \n",
       "0        2020-01-25    2134.0                   Overseas          X700   \n",
       "3        2020-01-27    2033.0                   Overseas          X720   \n",
       "5        2020-03-01    2077.0                   Overseas          X760   \n",
       "\n",
       "          lhd_2010_name  lga_code19       lga_name19  \n",
       "2       Northern Sydney     14500.0  Ku-ring-gai (A)  \n",
       "1       Northern Sydney     16260.0   Parramatta (C)  \n",
       "0                Sydney     11300.0      Burwood (A)  \n",
       "3  South Eastern Sydney     16550.0     Randwick (C)  \n",
       "5       Northern Sydney     14000.0      Hornsby (A)  "
      ]
     },
     "execution_count": 17,
     "metadata": {},
     "output_type": "execute_result"
    }
   ],
   "source": [
    "df.sort_values(by=['notification_date','postcode'],ascending=True).head(5)"
   ]
  },
  {
   "cell_type": "markdown",
   "metadata": {},
   "source": [
    "#### Filtering the data using a single condition"
   ]
  },
  {
   "cell_type": "code",
   "execution_count": 15,
   "metadata": {},
   "outputs": [
    {
     "data": {
      "text/html": [
       "<div>\n",
       "<style scoped>\n",
       "    .dataframe tbody tr th:only-of-type {\n",
       "        vertical-align: middle;\n",
       "    }\n",
       "\n",
       "    .dataframe tbody tr th {\n",
       "        vertical-align: top;\n",
       "    }\n",
       "\n",
       "    .dataframe thead th {\n",
       "        text-align: right;\n",
       "    }\n",
       "</style>\n",
       "<table border=\"1\" class=\"dataframe\">\n",
       "  <thead>\n",
       "    <tr style=\"text-align: right;\">\n",
       "      <th></th>\n",
       "      <th>notification_date</th>\n",
       "      <th>postcode</th>\n",
       "      <th>source</th>\n",
       "      <th>lhd_2010_code</th>\n",
       "      <th>district</th>\n",
       "      <th>lga_code19</th>\n",
       "      <th>area</th>\n",
       "    </tr>\n",
       "  </thead>\n",
       "  <tbody>\n",
       "    <tr>\n",
       "      <th>3383</th>\n",
       "      <td>2020-07-19</td>\n",
       "      <td>2536</td>\n",
       "      <td>Locally acquired - contact of a confirmed case...</td>\n",
       "      <td>X830</td>\n",
       "      <td>Southern NSW</td>\n",
       "      <td>12750.0</td>\n",
       "      <td>Eurobodalla (A)</td>\n",
       "    </tr>\n",
       "    <tr>\n",
       "      <th>3384</th>\n",
       "      <td>2020-07-19</td>\n",
       "      <td>2176</td>\n",
       "      <td>Locally acquired - contact of a confirmed case...</td>\n",
       "      <td>X710</td>\n",
       "      <td>South Western Sydney</td>\n",
       "      <td>12850.0</td>\n",
       "      <td>Fairfield (C)</td>\n",
       "    </tr>\n",
       "    <tr>\n",
       "      <th>3385</th>\n",
       "      <td>2020-07-19</td>\n",
       "      <td>2148</td>\n",
       "      <td>Locally acquired - contact of a confirmed case...</td>\n",
       "      <td>X740</td>\n",
       "      <td>Western Sydney</td>\n",
       "      <td>10750.0</td>\n",
       "      <td>Blacktown (C)</td>\n",
       "    </tr>\n",
       "    <tr>\n",
       "      <th>3386</th>\n",
       "      <td>2020-07-19</td>\n",
       "      <td>2536</td>\n",
       "      <td>Locally acquired - contact of a confirmed case...</td>\n",
       "      <td>X830</td>\n",
       "      <td>Southern NSW</td>\n",
       "      <td>12750.0</td>\n",
       "      <td>Eurobodalla (A)</td>\n",
       "    </tr>\n",
       "    <tr>\n",
       "      <th>3387</th>\n",
       "      <td>2020-07-19</td>\n",
       "      <td>2166</td>\n",
       "      <td>Locally acquired - contact of a confirmed case...</td>\n",
       "      <td>X710</td>\n",
       "      <td>South Western Sydney</td>\n",
       "      <td>12850.0</td>\n",
       "      <td>Fairfield (C)</td>\n",
       "    </tr>\n",
       "    <tr>\n",
       "      <th>3388</th>\n",
       "      <td>2020-07-19</td>\n",
       "      <td>nan</td>\n",
       "      <td>Interstate</td>\n",
       "      <td>NaN</td>\n",
       "      <td>NaN</td>\n",
       "      <td>NaN</td>\n",
       "      <td>NaN</td>\n",
       "    </tr>\n",
       "    <tr>\n",
       "      <th>3389</th>\n",
       "      <td>2020-07-19</td>\n",
       "      <td>2536</td>\n",
       "      <td>Locally acquired - contact of a confirmed case...</td>\n",
       "      <td>X830</td>\n",
       "      <td>Southern NSW</td>\n",
       "      <td>12750.0</td>\n",
       "      <td>Eurobodalla (A)</td>\n",
       "    </tr>\n",
       "    <tr>\n",
       "      <th>3390</th>\n",
       "      <td>2020-07-19</td>\n",
       "      <td>2232</td>\n",
       "      <td>Locally acquired - contact of a confirmed case...</td>\n",
       "      <td>X720</td>\n",
       "      <td>South Eastern Sydney</td>\n",
       "      <td>17150.0</td>\n",
       "      <td>Sutherland Shire (A)</td>\n",
       "    </tr>\n",
       "    <tr>\n",
       "      <th>3391</th>\n",
       "      <td>2020-07-19</td>\n",
       "      <td>nan</td>\n",
       "      <td>Locally acquired - contact of a confirmed case...</td>\n",
       "      <td>NaN</td>\n",
       "      <td>NaN</td>\n",
       "      <td>NaN</td>\n",
       "      <td>NaN</td>\n",
       "    </tr>\n",
       "    <tr>\n",
       "      <th>3392</th>\n",
       "      <td>2020-07-19</td>\n",
       "      <td>2233</td>\n",
       "      <td>Locally acquired - contact of a confirmed case...</td>\n",
       "      <td>X720</td>\n",
       "      <td>South Eastern Sydney</td>\n",
       "      <td>17150.0</td>\n",
       "      <td>Sutherland Shire (A)</td>\n",
       "    </tr>\n",
       "    <tr>\n",
       "      <th>3393</th>\n",
       "      <td>2020-07-19</td>\n",
       "      <td>2747</td>\n",
       "      <td>Overseas</td>\n",
       "      <td>X750</td>\n",
       "      <td>Nepean Blue Mountains</td>\n",
       "      <td>16350.0</td>\n",
       "      <td>Penrith (C)</td>\n",
       "    </tr>\n",
       "    <tr>\n",
       "      <th>3394</th>\n",
       "      <td>2020-07-19</td>\n",
       "      <td>2153</td>\n",
       "      <td>Locally acquired - contact of a confirmed case...</td>\n",
       "      <td>X740</td>\n",
       "      <td>Western Sydney</td>\n",
       "      <td>17420.0</td>\n",
       "      <td>The Hills Shire (A)</td>\n",
       "    </tr>\n",
       "    <tr>\n",
       "      <th>3395</th>\n",
       "      <td>2020-07-19</td>\n",
       "      <td>nan</td>\n",
       "      <td>Overseas</td>\n",
       "      <td>NaN</td>\n",
       "      <td>NaN</td>\n",
       "      <td>NaN</td>\n",
       "      <td>NaN</td>\n",
       "    </tr>\n",
       "    <tr>\n",
       "      <th>3396</th>\n",
       "      <td>2020-07-19</td>\n",
       "      <td>2571</td>\n",
       "      <td>Locally acquired - contact of a confirmed case...</td>\n",
       "      <td>X710</td>\n",
       "      <td>South Western Sydney</td>\n",
       "      <td>18400.0</td>\n",
       "      <td>Wollondilly (A)</td>\n",
       "    </tr>\n",
       "    <tr>\n",
       "      <th>3397</th>\n",
       "      <td>2020-07-19</td>\n",
       "      <td>nan</td>\n",
       "      <td>Overseas</td>\n",
       "      <td>NaN</td>\n",
       "      <td>NaN</td>\n",
       "      <td>NaN</td>\n",
       "      <td>NaN</td>\n",
       "    </tr>\n",
       "    <tr>\n",
       "      <th>3398</th>\n",
       "      <td>2020-07-19</td>\n",
       "      <td>2153</td>\n",
       "      <td>Locally acquired - contact of a confirmed case...</td>\n",
       "      <td>X740</td>\n",
       "      <td>Western Sydney</td>\n",
       "      <td>17420.0</td>\n",
       "      <td>The Hills Shire (A)</td>\n",
       "    </tr>\n",
       "  </tbody>\n",
       "</table>\n",
       "</div>"
      ],
      "text/plain": [
       "     notification_date postcode  \\\n",
       "3383        2020-07-19     2536   \n",
       "3384        2020-07-19     2176   \n",
       "3385        2020-07-19     2148   \n",
       "3386        2020-07-19     2536   \n",
       "3387        2020-07-19     2166   \n",
       "3388        2020-07-19      nan   \n",
       "3389        2020-07-19     2536   \n",
       "3390        2020-07-19     2232   \n",
       "3391        2020-07-19      nan   \n",
       "3392        2020-07-19     2233   \n",
       "3393        2020-07-19     2747   \n",
       "3394        2020-07-19     2153   \n",
       "3395        2020-07-19      nan   \n",
       "3396        2020-07-19     2571   \n",
       "3397        2020-07-19      nan   \n",
       "3398        2020-07-19     2153   \n",
       "\n",
       "                                                 source lhd_2010_code  \\\n",
       "3383  Locally acquired - contact of a confirmed case...          X830   \n",
       "3384  Locally acquired - contact of a confirmed case...          X710   \n",
       "3385  Locally acquired - contact of a confirmed case...          X740   \n",
       "3386  Locally acquired - contact of a confirmed case...          X830   \n",
       "3387  Locally acquired - contact of a confirmed case...          X710   \n",
       "3388                                         Interstate           NaN   \n",
       "3389  Locally acquired - contact of a confirmed case...          X830   \n",
       "3390  Locally acquired - contact of a confirmed case...          X720   \n",
       "3391  Locally acquired - contact of a confirmed case...           NaN   \n",
       "3392  Locally acquired - contact of a confirmed case...          X720   \n",
       "3393                                           Overseas          X750   \n",
       "3394  Locally acquired - contact of a confirmed case...          X740   \n",
       "3395                                           Overseas           NaN   \n",
       "3396  Locally acquired - contact of a confirmed case...          X710   \n",
       "3397                                           Overseas           NaN   \n",
       "3398  Locally acquired - contact of a confirmed case...          X740   \n",
       "\n",
       "                   district  lga_code19                  area  \n",
       "3383           Southern NSW     12750.0       Eurobodalla (A)  \n",
       "3384   South Western Sydney     12850.0         Fairfield (C)  \n",
       "3385         Western Sydney     10750.0         Blacktown (C)  \n",
       "3386           Southern NSW     12750.0       Eurobodalla (A)  \n",
       "3387   South Western Sydney     12850.0         Fairfield (C)  \n",
       "3388                    NaN         NaN                   NaN  \n",
       "3389           Southern NSW     12750.0       Eurobodalla (A)  \n",
       "3390   South Eastern Sydney     17150.0  Sutherland Shire (A)  \n",
       "3391                    NaN         NaN                   NaN  \n",
       "3392   South Eastern Sydney     17150.0  Sutherland Shire (A)  \n",
       "3393  Nepean Blue Mountains     16350.0           Penrith (C)  \n",
       "3394         Western Sydney     17420.0   The Hills Shire (A)  \n",
       "3395                    NaN         NaN                   NaN  \n",
       "3396   South Western Sydney     18400.0       Wollondilly (A)  \n",
       "3397                    NaN         NaN                   NaN  \n",
       "3398         Western Sydney     17420.0   The Hills Shire (A)  "
      ]
     },
     "execution_count": 15,
     "metadata": {},
     "output_type": "execute_result"
    }
   ],
   "source": [
    "df[df['notification_date']=='2020-07-19']"
   ]
  },
  {
   "cell_type": "markdown",
   "metadata": {},
   "source": [
    "#### Filtering the data frame using multiple conditions"
   ]
  },
  {
   "cell_type": "code",
   "execution_count": 22,
   "metadata": {},
   "outputs": [
    {
     "data": {
      "text/html": [
       "<div>\n",
       "<style scoped>\n",
       "    .dataframe tbody tr th:only-of-type {\n",
       "        vertical-align: middle;\n",
       "    }\n",
       "\n",
       "    .dataframe tbody tr th {\n",
       "        vertical-align: top;\n",
       "    }\n",
       "\n",
       "    .dataframe thead th {\n",
       "        text-align: right;\n",
       "    }\n",
       "</style>\n",
       "<table border=\"1\" class=\"dataframe\">\n",
       "  <thead>\n",
       "    <tr style=\"text-align: right;\">\n",
       "      <th></th>\n",
       "      <th>notification_date</th>\n",
       "      <th>postcode</th>\n",
       "      <th>likely_source_of_infection</th>\n",
       "      <th>lhd_2010_code</th>\n",
       "      <th>lhd_2010_name</th>\n",
       "      <th>lga_code19</th>\n",
       "      <th>lga_name19</th>\n",
       "    </tr>\n",
       "  </thead>\n",
       "  <tbody>\n",
       "    <tr>\n",
       "      <th>4</th>\n",
       "      <td>2020-03-01</td>\n",
       "      <td>2163.0</td>\n",
       "      <td>Overseas</td>\n",
       "      <td>X710</td>\n",
       "      <td>South Western Sydney</td>\n",
       "      <td>12850.0</td>\n",
       "      <td>Fairfield (C)</td>\n",
       "    </tr>\n",
       "    <tr>\n",
       "      <th>14</th>\n",
       "      <td>2020-03-03</td>\n",
       "      <td>2200.0</td>\n",
       "      <td>Overseas</td>\n",
       "      <td>X710</td>\n",
       "      <td>South Western Sydney</td>\n",
       "      <td>11570.0</td>\n",
       "      <td>Canterbury-Bankstown (A)</td>\n",
       "    </tr>\n",
       "    <tr>\n",
       "      <th>35</th>\n",
       "      <td>2020-03-08</td>\n",
       "      <td>2170.0</td>\n",
       "      <td>Overseas</td>\n",
       "      <td>X710</td>\n",
       "      <td>South Western Sydney</td>\n",
       "      <td>14900.0</td>\n",
       "      <td>Liverpool (C)</td>\n",
       "    </tr>\n",
       "    <tr>\n",
       "      <th>84</th>\n",
       "      <td>2020-03-12</td>\n",
       "      <td>2570.0</td>\n",
       "      <td>Overseas</td>\n",
       "      <td>X710</td>\n",
       "      <td>South Western Sydney</td>\n",
       "      <td>11450.0</td>\n",
       "      <td>Camden (A)</td>\n",
       "    </tr>\n",
       "    <tr>\n",
       "      <th>85</th>\n",
       "      <td>2020-03-12</td>\n",
       "      <td>2566.0</td>\n",
       "      <td>Overseas</td>\n",
       "      <td>X710</td>\n",
       "      <td>South Western Sydney</td>\n",
       "      <td>11500.0</td>\n",
       "      <td>Campbelltown (C) (NSW)</td>\n",
       "    </tr>\n",
       "    <tr>\n",
       "      <th>93</th>\n",
       "      <td>2020-03-13</td>\n",
       "      <td>2576.0</td>\n",
       "      <td>Overseas</td>\n",
       "      <td>X710</td>\n",
       "      <td>South Western Sydney</td>\n",
       "      <td>18350.0</td>\n",
       "      <td>Wingecarribee (A)</td>\n",
       "    </tr>\n",
       "    <tr>\n",
       "      <th>139</th>\n",
       "      <td>2020-03-15</td>\n",
       "      <td>2163.0</td>\n",
       "      <td>Overseas</td>\n",
       "      <td>X710</td>\n",
       "      <td>South Western Sydney</td>\n",
       "      <td>12850.0</td>\n",
       "      <td>Fairfield (C)</td>\n",
       "    </tr>\n",
       "    <tr>\n",
       "      <th>147</th>\n",
       "      <td>2020-03-15</td>\n",
       "      <td>2575.0</td>\n",
       "      <td>Overseas</td>\n",
       "      <td>X710</td>\n",
       "      <td>South Western Sydney</td>\n",
       "      <td>18350.0</td>\n",
       "      <td>Wingecarribee (A)</td>\n",
       "    </tr>\n",
       "    <tr>\n",
       "      <th>171</th>\n",
       "      <td>2020-03-16</td>\n",
       "      <td>2575.0</td>\n",
       "      <td>Overseas</td>\n",
       "      <td>X710</td>\n",
       "      <td>South Western Sydney</td>\n",
       "      <td>18350.0</td>\n",
       "      <td>Wingecarribee (A)</td>\n",
       "    </tr>\n",
       "    <tr>\n",
       "      <th>236</th>\n",
       "      <td>2020-03-17</td>\n",
       "      <td>2567.0</td>\n",
       "      <td>Overseas</td>\n",
       "      <td>X710</td>\n",
       "      <td>South Western Sydney</td>\n",
       "      <td>11450.0</td>\n",
       "      <td>Camden (A)</td>\n",
       "    </tr>\n",
       "  </tbody>\n",
       "</table>\n",
       "</div>"
      ],
      "text/plain": [
       "    notification_date  postcode likely_source_of_infection lhd_2010_code  \\\n",
       "4          2020-03-01    2163.0                   Overseas          X710   \n",
       "14         2020-03-03    2200.0                   Overseas          X710   \n",
       "35         2020-03-08    2170.0                   Overseas          X710   \n",
       "84         2020-03-12    2570.0                   Overseas          X710   \n",
       "85         2020-03-12    2566.0                   Overseas          X710   \n",
       "93         2020-03-13    2576.0                   Overseas          X710   \n",
       "139        2020-03-15    2163.0                   Overseas          X710   \n",
       "147        2020-03-15    2575.0                   Overseas          X710   \n",
       "171        2020-03-16    2575.0                   Overseas          X710   \n",
       "236        2020-03-17    2567.0                   Overseas          X710   \n",
       "\n",
       "            lhd_2010_name  lga_code19                lga_name19  \n",
       "4    South Western Sydney     12850.0             Fairfield (C)  \n",
       "14   South Western Sydney     11570.0  Canterbury-Bankstown (A)  \n",
       "35   South Western Sydney     14900.0             Liverpool (C)  \n",
       "84   South Western Sydney     11450.0                Camden (A)  \n",
       "85   South Western Sydney     11500.0    Campbelltown (C) (NSW)  \n",
       "93   South Western Sydney     18350.0         Wingecarribee (A)  \n",
       "139  South Western Sydney     12850.0             Fairfield (C)  \n",
       "147  South Western Sydney     18350.0         Wingecarribee (A)  \n",
       "171  South Western Sydney     18350.0         Wingecarribee (A)  \n",
       "236  South Western Sydney     11450.0                Camden (A)  "
      ]
     },
     "execution_count": 22,
     "metadata": {},
     "output_type": "execute_result"
    }
   ],
   "source": [
    "df[(df['likely_source_of_infection']=='Overseas') & (df['lhd_2010_name']=='South Western Sydney')].head(10)"
   ]
  },
  {
   "cell_type": "markdown",
   "metadata": {},
   "source": [
    "#### You can also use an isin conditional function to query the data"
   ]
  },
  {
   "cell_type": "code",
   "execution_count": 24,
   "metadata": {},
   "outputs": [],
   "source": [
    "#df[df['postcode'].isin(['2770.0','2774.0'])]\n",
    "#df[(df['postcode'] == '2770') | (df['postcode'] == '2774')].head(10)"
   ]
  },
  {
   "cell_type": "markdown",
   "metadata": {},
   "source": [
    "#### You can also filter on the index location, using an single row, or a range"
   ]
  },
  {
   "cell_type": "code",
   "execution_count": 28,
   "metadata": {},
   "outputs": [
    {
     "data": {
      "text/html": [
       "<div>\n",
       "<style scoped>\n",
       "    .dataframe tbody tr th:only-of-type {\n",
       "        vertical-align: middle;\n",
       "    }\n",
       "\n",
       "    .dataframe tbody tr th {\n",
       "        vertical-align: top;\n",
       "    }\n",
       "\n",
       "    .dataframe thead th {\n",
       "        text-align: right;\n",
       "    }\n",
       "</style>\n",
       "<table border=\"1\" class=\"dataframe\">\n",
       "  <thead>\n",
       "    <tr style=\"text-align: right;\">\n",
       "      <th></th>\n",
       "      <th>notification_date</th>\n",
       "      <th>postcode</th>\n",
       "      <th>likely_source_of_infection</th>\n",
       "      <th>lhd_2010_code</th>\n",
       "      <th>lhd_2010_name</th>\n",
       "      <th>lga_code19</th>\n",
       "      <th>lga_name19</th>\n",
       "    </tr>\n",
       "  </thead>\n",
       "  <tbody>\n",
       "    <tr>\n",
       "      <th>0</th>\n",
       "      <td>2020-01-25</td>\n",
       "      <td>2134.0</td>\n",
       "      <td>Overseas</td>\n",
       "      <td>X700</td>\n",
       "      <td>Sydney</td>\n",
       "      <td>11300.0</td>\n",
       "      <td>Burwood (A)</td>\n",
       "    </tr>\n",
       "    <tr>\n",
       "      <th>1</th>\n",
       "      <td>2020-01-25</td>\n",
       "      <td>2121.0</td>\n",
       "      <td>Overseas</td>\n",
       "      <td>X760</td>\n",
       "      <td>Northern Sydney</td>\n",
       "      <td>16260.0</td>\n",
       "      <td>Parramatta (C)</td>\n",
       "    </tr>\n",
       "    <tr>\n",
       "      <th>2</th>\n",
       "      <td>2020-01-25</td>\n",
       "      <td>2071.0</td>\n",
       "      <td>Overseas</td>\n",
       "      <td>X760</td>\n",
       "      <td>Northern Sydney</td>\n",
       "      <td>14500.0</td>\n",
       "      <td>Ku-ring-gai (A)</td>\n",
       "    </tr>\n",
       "    <tr>\n",
       "      <th>3</th>\n",
       "      <td>2020-01-27</td>\n",
       "      <td>2033.0</td>\n",
       "      <td>Overseas</td>\n",
       "      <td>X720</td>\n",
       "      <td>South Eastern Sydney</td>\n",
       "      <td>16550.0</td>\n",
       "      <td>Randwick (C)</td>\n",
       "    </tr>\n",
       "    <tr>\n",
       "      <th>4</th>\n",
       "      <td>2020-03-01</td>\n",
       "      <td>2163.0</td>\n",
       "      <td>Overseas</td>\n",
       "      <td>X710</td>\n",
       "      <td>South Western Sydney</td>\n",
       "      <td>12850.0</td>\n",
       "      <td>Fairfield (C)</td>\n",
       "    </tr>\n",
       "  </tbody>\n",
       "</table>\n",
       "</div>"
      ],
      "text/plain": [
       "  notification_date  postcode likely_source_of_infection lhd_2010_code  \\\n",
       "0        2020-01-25    2134.0                   Overseas          X700   \n",
       "1        2020-01-25    2121.0                   Overseas          X760   \n",
       "2        2020-01-25    2071.0                   Overseas          X760   \n",
       "3        2020-01-27    2033.0                   Overseas          X720   \n",
       "4        2020-03-01    2163.0                   Overseas          X710   \n",
       "\n",
       "          lhd_2010_name  lga_code19       lga_name19  \n",
       "0                Sydney     11300.0      Burwood (A)  \n",
       "1       Northern Sydney     16260.0   Parramatta (C)  \n",
       "2       Northern Sydney     14500.0  Ku-ring-gai (A)  \n",
       "3  South Eastern Sydney     16550.0     Randwick (C)  \n",
       "4  South Western Sydney     12850.0    Fairfield (C)  "
      ]
     },
     "execution_count": 28,
     "metadata": {},
     "output_type": "execute_result"
    }
   ],
   "source": [
    "#df.iloc[0] \n",
    "#df.iloc[-1]\n",
    "#df.iloc[0:5]"
   ]
  },
  {
   "cell_type": "markdown",
   "metadata": {},
   "source": [
    "#### Grouping the data based on row count size(). You can also do aggregation functions on a groupby (SUM, MIN, MAX etc...)"
   ]
  },
  {
   "cell_type": "code",
   "execution_count": 16,
   "metadata": {},
   "outputs": [
    {
     "ename": "KeyError",
     "evalue": "'likely_source_of_infection'",
     "output_type": "error",
     "traceback": [
      "\u001b[0;31m---------------------------------------------------------------------------\u001b[0m",
      "\u001b[0;31mKeyError\u001b[0m                                  Traceback (most recent call last)",
      "\u001b[0;32m<ipython-input-16-f7e89784edc9>\u001b[0m in \u001b[0;36m<module>\u001b[0;34m\u001b[0m\n\u001b[0;32m----> 1\u001b[0;31m \u001b[0mdf\u001b[0m\u001b[0;34m.\u001b[0m\u001b[0mgroupby\u001b[0m\u001b[0;34m(\u001b[0m\u001b[0;34m'likely_source_of_infection'\u001b[0m\u001b[0;34m)\u001b[0m\u001b[0;34m.\u001b[0m\u001b[0msize\u001b[0m\u001b[0;34m(\u001b[0m\u001b[0;34m)\u001b[0m\u001b[0;34m\u001b[0m\u001b[0;34m\u001b[0m\u001b[0m\n\u001b[0m",
      "\u001b[0;32m~/opt/anaconda3/lib/python3.7/site-packages/pandas/core/frame.py\u001b[0m in \u001b[0;36mgroupby\u001b[0;34m(self, by, axis, level, as_index, sort, group_keys, squeeze, observed)\u001b[0m\n\u001b[1;32m   5808\u001b[0m             \u001b[0mgroup_keys\u001b[0m\u001b[0;34m=\u001b[0m\u001b[0mgroup_keys\u001b[0m\u001b[0;34m,\u001b[0m\u001b[0;34m\u001b[0m\u001b[0;34m\u001b[0m\u001b[0m\n\u001b[1;32m   5809\u001b[0m             \u001b[0msqueeze\u001b[0m\u001b[0;34m=\u001b[0m\u001b[0msqueeze\u001b[0m\u001b[0;34m,\u001b[0m\u001b[0;34m\u001b[0m\u001b[0;34m\u001b[0m\u001b[0m\n\u001b[0;32m-> 5810\u001b[0;31m             \u001b[0mobserved\u001b[0m\u001b[0;34m=\u001b[0m\u001b[0mobserved\u001b[0m\u001b[0;34m,\u001b[0m\u001b[0;34m\u001b[0m\u001b[0;34m\u001b[0m\u001b[0m\n\u001b[0m\u001b[1;32m   5811\u001b[0m         )\n\u001b[1;32m   5812\u001b[0m \u001b[0;34m\u001b[0m\u001b[0m\n",
      "\u001b[0;32m~/opt/anaconda3/lib/python3.7/site-packages/pandas/core/groupby/groupby.py\u001b[0m in \u001b[0;36m__init__\u001b[0;34m(self, obj, keys, axis, level, grouper, exclusions, selection, as_index, sort, group_keys, squeeze, observed, mutated)\u001b[0m\n\u001b[1;32m    407\u001b[0m                 \u001b[0msort\u001b[0m\u001b[0;34m=\u001b[0m\u001b[0msort\u001b[0m\u001b[0;34m,\u001b[0m\u001b[0;34m\u001b[0m\u001b[0;34m\u001b[0m\u001b[0m\n\u001b[1;32m    408\u001b[0m                 \u001b[0mobserved\u001b[0m\u001b[0;34m=\u001b[0m\u001b[0mobserved\u001b[0m\u001b[0;34m,\u001b[0m\u001b[0;34m\u001b[0m\u001b[0;34m\u001b[0m\u001b[0m\n\u001b[0;32m--> 409\u001b[0;31m                 \u001b[0mmutated\u001b[0m\u001b[0;34m=\u001b[0m\u001b[0mself\u001b[0m\u001b[0;34m.\u001b[0m\u001b[0mmutated\u001b[0m\u001b[0;34m,\u001b[0m\u001b[0;34m\u001b[0m\u001b[0;34m\u001b[0m\u001b[0m\n\u001b[0m\u001b[1;32m    410\u001b[0m             )\n\u001b[1;32m    411\u001b[0m \u001b[0;34m\u001b[0m\u001b[0m\n",
      "\u001b[0;32m~/opt/anaconda3/lib/python3.7/site-packages/pandas/core/groupby/grouper.py\u001b[0m in \u001b[0;36mget_grouper\u001b[0;34m(obj, key, axis, level, sort, observed, mutated, validate)\u001b[0m\n\u001b[1;32m    596\u001b[0m                 \u001b[0min_axis\u001b[0m\u001b[0;34m,\u001b[0m \u001b[0mname\u001b[0m\u001b[0;34m,\u001b[0m \u001b[0mlevel\u001b[0m\u001b[0;34m,\u001b[0m \u001b[0mgpr\u001b[0m \u001b[0;34m=\u001b[0m \u001b[0;32mFalse\u001b[0m\u001b[0;34m,\u001b[0m \u001b[0;32mNone\u001b[0m\u001b[0;34m,\u001b[0m \u001b[0mgpr\u001b[0m\u001b[0;34m,\u001b[0m \u001b[0;32mNone\u001b[0m\u001b[0;34m\u001b[0m\u001b[0;34m\u001b[0m\u001b[0m\n\u001b[1;32m    597\u001b[0m             \u001b[0;32melse\u001b[0m\u001b[0;34m:\u001b[0m\u001b[0;34m\u001b[0m\u001b[0;34m\u001b[0m\u001b[0m\n\u001b[0;32m--> 598\u001b[0;31m                 \u001b[0;32mraise\u001b[0m \u001b[0mKeyError\u001b[0m\u001b[0;34m(\u001b[0m\u001b[0mgpr\u001b[0m\u001b[0;34m)\u001b[0m\u001b[0;34m\u001b[0m\u001b[0;34m\u001b[0m\u001b[0m\n\u001b[0m\u001b[1;32m    599\u001b[0m         \u001b[0;32melif\u001b[0m \u001b[0misinstance\u001b[0m\u001b[0;34m(\u001b[0m\u001b[0mgpr\u001b[0m\u001b[0;34m,\u001b[0m \u001b[0mGrouper\u001b[0m\u001b[0;34m)\u001b[0m \u001b[0;32mand\u001b[0m \u001b[0mgpr\u001b[0m\u001b[0;34m.\u001b[0m\u001b[0mkey\u001b[0m \u001b[0;32mis\u001b[0m \u001b[0;32mnot\u001b[0m \u001b[0;32mNone\u001b[0m\u001b[0;34m:\u001b[0m\u001b[0;34m\u001b[0m\u001b[0;34m\u001b[0m\u001b[0m\n\u001b[1;32m    600\u001b[0m             \u001b[0;31m# Add key to exclusions\u001b[0m\u001b[0;34m\u001b[0m\u001b[0;34m\u001b[0m\u001b[0;34m\u001b[0m\u001b[0m\n",
      "\u001b[0;31mKeyError\u001b[0m: 'likely_source_of_infection'"
     ]
    }
   ],
   "source": [
    "df.groupby('likely_source_of_infection').size()"
   ]
  },
  {
   "cell_type": "markdown",
   "metadata": {},
   "source": [
    "#### You can also use the value_counts function to derive a similar result but cannot use aggregation functions here"
   ]
  },
  {
   "cell_type": "code",
   "execution_count": 31,
   "metadata": {},
   "outputs": [
    {
     "data": {
      "text/plain": [
       "Overseas                                                                    1976\n",
       "Locally acquired - contact of a confirmed case and/or in a known cluster     907\n",
       "Locally acquired - source not identified                                     360\n",
       "Interstate                                                                    73\n",
       "Name: likely_source_of_infection, dtype: int64"
      ]
     },
     "execution_count": 31,
     "metadata": {},
     "output_type": "execute_result"
    }
   ],
   "source": [
    "df.likely_source_of_infection.value_counts()"
   ]
  },
  {
   "cell_type": "markdown",
   "metadata": {},
   "source": [
    "### Cleaning the data"
   ]
  },
  {
   "cell_type": "code",
   "execution_count": 3,
   "metadata": {},
   "outputs": [],
   "source": [
    "df['postcode'] = df['postcode'].apply(str)"
   ]
  },
  {
   "cell_type": "code",
   "execution_count": 36,
   "metadata": {},
   "outputs": [
    {
     "data": {
      "text/html": [
       "<div>\n",
       "<style scoped>\n",
       "    .dataframe tbody tr th:only-of-type {\n",
       "        vertical-align: middle;\n",
       "    }\n",
       "\n",
       "    .dataframe tbody tr th {\n",
       "        vertical-align: top;\n",
       "    }\n",
       "\n",
       "    .dataframe thead th {\n",
       "        text-align: right;\n",
       "    }\n",
       "</style>\n",
       "<table border=\"1\" class=\"dataframe\">\n",
       "  <thead>\n",
       "    <tr style=\"text-align: right;\">\n",
       "      <th></th>\n",
       "      <th>notification_date</th>\n",
       "      <th>postcode</th>\n",
       "      <th>source</th>\n",
       "      <th>lhd_2010_code</th>\n",
       "      <th>district</th>\n",
       "      <th>lga_code19</th>\n",
       "      <th>area</th>\n",
       "    </tr>\n",
       "  </thead>\n",
       "  <tbody>\n",
       "    <tr>\n",
       "      <th>0</th>\n",
       "      <td>2020-01-25</td>\n",
       "      <td>2134</td>\n",
       "      <td>Overseas</td>\n",
       "      <td>X700</td>\n",
       "      <td>Sydney</td>\n",
       "      <td>11300.0</td>\n",
       "      <td>Burwood (A)</td>\n",
       "    </tr>\n",
       "    <tr>\n",
       "      <th>1</th>\n",
       "      <td>2020-01-25</td>\n",
       "      <td>2121</td>\n",
       "      <td>Overseas</td>\n",
       "      <td>X760</td>\n",
       "      <td>Northern Sydney</td>\n",
       "      <td>16260.0</td>\n",
       "      <td>Parramatta (C)</td>\n",
       "    </tr>\n",
       "    <tr>\n",
       "      <th>2</th>\n",
       "      <td>2020-01-25</td>\n",
       "      <td>2071</td>\n",
       "      <td>Overseas</td>\n",
       "      <td>X760</td>\n",
       "      <td>Northern Sydney</td>\n",
       "      <td>14500.0</td>\n",
       "      <td>Ku-ring-gai (A)</td>\n",
       "    </tr>\n",
       "  </tbody>\n",
       "</table>\n",
       "</div>"
      ],
      "text/plain": [
       "  notification_date postcode    source lhd_2010_code         district  \\\n",
       "0        2020-01-25     2134  Overseas          X700           Sydney   \n",
       "1        2020-01-25     2121  Overseas          X760  Northern Sydney   \n",
       "2        2020-01-25     2071  Overseas          X760  Northern Sydney   \n",
       "\n",
       "   lga_code19             area  \n",
       "0     11300.0      Burwood (A)  \n",
       "1     16260.0   Parramatta (C)  \n",
       "2     14500.0  Ku-ring-gai (A)  "
      ]
     },
     "execution_count": 36,
     "metadata": {},
     "output_type": "execute_result"
    }
   ],
   "source": [
    "df.head(3)"
   ]
  },
  {
   "cell_type": "code",
   "execution_count": 4,
   "metadata": {},
   "outputs": [],
   "source": [
    "df['postcode'] = df['postcode'].replace('\\.0','',regex=True)"
   ]
  },
  {
   "cell_type": "code",
   "execution_count": 5,
   "metadata": {},
   "outputs": [],
   "source": [
    "df = df.rename(columns={'likely_source_of_infection':'source','lhd_2010_name':'district','lga_name19':'area'})"
   ]
  },
  {
   "cell_type": "markdown",
   "metadata": {},
   "source": [
    "### Creating a new dataframe"
   ]
  },
  {
   "cell_type": "code",
   "execution_count": 6,
   "metadata": {},
   "outputs": [],
   "source": [
    "data = df[['notification_date','postcode','source','district','area']]"
   ]
  },
  {
   "cell_type": "code",
   "execution_count": 17,
   "metadata": {},
   "outputs": [
    {
     "data": {
      "text/html": [
       "<div>\n",
       "<style scoped>\n",
       "    .dataframe tbody tr th:only-of-type {\n",
       "        vertical-align: middle;\n",
       "    }\n",
       "\n",
       "    .dataframe tbody tr th {\n",
       "        vertical-align: top;\n",
       "    }\n",
       "\n",
       "    .dataframe thead th {\n",
       "        text-align: right;\n",
       "    }\n",
       "</style>\n",
       "<table border=\"1\" class=\"dataframe\">\n",
       "  <thead>\n",
       "    <tr style=\"text-align: right;\">\n",
       "      <th></th>\n",
       "      <th>notification_date</th>\n",
       "      <th>postcode</th>\n",
       "      <th>source</th>\n",
       "      <th>district</th>\n",
       "      <th>area</th>\n",
       "    </tr>\n",
       "  </thead>\n",
       "  <tbody>\n",
       "    <tr>\n",
       "      <th>0</th>\n",
       "      <td>2020-01-25</td>\n",
       "      <td>2134</td>\n",
       "      <td>Overseas</td>\n",
       "      <td>Sydney</td>\n",
       "      <td>Burwood (A)</td>\n",
       "    </tr>\n",
       "    <tr>\n",
       "      <th>1</th>\n",
       "      <td>2020-01-25</td>\n",
       "      <td>2121</td>\n",
       "      <td>Overseas</td>\n",
       "      <td>Northern Sydney</td>\n",
       "      <td>Parramatta (C)</td>\n",
       "    </tr>\n",
       "    <tr>\n",
       "      <th>2</th>\n",
       "      <td>2020-01-25</td>\n",
       "      <td>2071</td>\n",
       "      <td>Overseas</td>\n",
       "      <td>Northern Sydney</td>\n",
       "      <td>Ku-ring-gai (A)</td>\n",
       "    </tr>\n",
       "  </tbody>\n",
       "</table>\n",
       "</div>"
      ],
      "text/plain": [
       "  notification_date postcode    source         district             area\n",
       "0        2020-01-25     2134  Overseas           Sydney      Burwood (A)\n",
       "1        2020-01-25     2121  Overseas  Northern Sydney   Parramatta (C)\n",
       "2        2020-01-25     2071  Overseas  Northern Sydney  Ku-ring-gai (A)"
      ]
     },
     "execution_count": 17,
     "metadata": {},
     "output_type": "execute_result"
    }
   ],
   "source": [
    "data.head(3)"
   ]
  },
  {
   "cell_type": "markdown",
   "metadata": {},
   "source": [
    "### The analysis"
   ]
  },
  {
   "cell_type": "code",
   "execution_count": 7,
   "metadata": {},
   "outputs": [
    {
     "data": {
      "image/png": "[encoded data removed]",
      "text/plain": [
       "<Figure size 720x360 with 1 Axes>"
      ]
     },
     "metadata": {
      "needs_background": "light"
     },
     "output_type": "display_data"
    }
   ],
   "source": [
    "data.groupby('notification_date').size().plot(kind='line',figsize=(10,5))\n",
    "plt.show()"
   ]
  },
  {
   "cell_type": "code",
   "execution_count": 8,
   "metadata": {},
   "outputs": [
    {
     "data": {
      "image/png": "[encoded data removed]",
      "text/plain": [
       "<Figure size 720x360 with 1 Axes>"
      ]
     },
     "metadata": {
      "needs_background": "light"
     },
     "output_type": "display_data"
    }
   ],
   "source": [
    "data.groupby('district').size().plot(kind='barh',figsize=(10,5))\n",
    "plt.show()"
   ]
  },
  {
   "cell_type": "code",
   "execution_count": 43,
   "metadata": {},
   "outputs": [
    {
     "data": {
      "text/plain": [
       "source\n",
       "Overseas                                                                    302\n",
       "Locally acquired - contact of a confirmed case and/or in a known cluster    248\n",
       "Locally acquired - source not identified                                    109\n",
       "Interstate                                                                   27\n",
       "dtype: int64"
      ]
     },
     "execution_count": 43,
     "metadata": {},
     "output_type": "execute_result"
    }
   ],
   "source": [
    "data[data['district']=='South Eastern Sydney'].groupby('source').size().sort_values(ascending=False)"
   ]
  },
  {
   "cell_type": "code",
   "execution_count": 9,
   "metadata": {},
   "outputs": [
    {
     "data": {
      "text/plain": [
       "area\n",
       "Waverley (A)            181\n",
       "Sutherland Shire (A)    124\n",
       "Woollahra (A)            94\n",
       "Randwick (C)             86\n",
       "Sydney (C)               79\n",
       "Bayside (A)              69\n",
       "Georges River (A)        62\n",
       "dtype: int64"
      ]
     },
     "execution_count": 9,
     "metadata": {},
     "output_type": "execute_result"
    }
   ],
   "source": [
    "data[data['district']=='South Eastern Sydney'].groupby('area').size().sort_values(ascending=False)"
   ]
  },
  {
   "cell_type": "code",
   "execution_count": 10,
   "metadata": {
    "scrolled": true
   },
   "outputs": [
    {
     "data": {
      "text/plain": [
       "area\n",
       "Waverley (A)            122\n",
       "Sutherland Shire (A)     53\n",
       "Randwick (C)             51\n",
       "Bayside (A)              46\n",
       "Sydney (C)               44\n",
       "Georges River (A)        40\n",
       "Woollahra (A)            35\n",
       "dtype: int64"
      ]
     },
     "execution_count": 10,
     "metadata": {},
     "output_type": "execute_result"
    }
   ],
   "source": [
    "data[(data['district']=='South Eastern Sydney') & (df['source']!='Overseas')].groupby('area').size().sort_values(ascending=False)"
   ]
  },
  {
   "cell_type": "code",
   "execution_count": 11,
   "metadata": {},
   "outputs": [],
   "source": [
    "ses = data[(data['district']=='South Eastern Sydney') & (df['source']!='Overseas')]"
   ]
  },
  {
   "cell_type": "code",
   "execution_count": 12,
   "metadata": {},
   "outputs": [
    {
     "data": {
      "text/plain": [
       "source\n",
       "Locally acquired - contact of a confirmed case and/or in a known cluster    255\n",
       "Locally acquired - source not identified                                    109\n",
       "Interstate                                                                   27\n",
       "dtype: int64"
      ]
     },
     "execution_count": 12,
     "metadata": {},
     "output_type": "execute_result"
    }
   ],
   "source": [
    "ses.groupby('source').size().sort_values(ascending=False)"
   ]
  },
  {
   "cell_type": "code",
   "execution_count": 13,
   "metadata": {},
   "outputs": [
    {
     "data": {
      "text/plain": [
       "2026    85\n",
       "2022    23\n",
       "2010    19\n",
       "2023    18\n",
       "2011    17\n",
       "Name: postcode, dtype: int64"
      ]
     },
     "execution_count": 13,
     "metadata": {},
     "output_type": "execute_result"
    }
   ],
   "source": [
    "ses.postcode.value_counts().head(5)"
   ]
  },
  {
   "cell_type": "markdown",
   "metadata": {},
   "source": [
    "### You can also output your data to an xlsx or csv file for further use or distribution"
   ]
  },
  {
   "cell_type": "code",
   "execution_count": 49,
   "metadata": {},
   "outputs": [],
   "source": [
    "ses.to_excel('South_Eastern_Sydney_Notifications.xlsx',index=False) "
   ]
  },
  {
   "cell_type": "code",
   "execution_count": 50,
   "metadata": {},
   "outputs": [],
   "source": [
    "ses.to_csv('South_Eastern_Sydney_Notifications.csv',index=False)"
   ]
  },
  {
   "cell_type": "code",
   "execution_count": null,
   "metadata": {},
   "outputs": [],
   "source": []
  }
 ],
 "metadata": {
  "kernelspec": {
   "display_name": "Python 3",
   "language": "python",
   "name": "python3"
  },
  "language_info": {
   "codemirror_mode": {
    "name": "ipython",
    "version": 3
   },
   "file_extension": ".py",
   "mimetype": "text/x-python",
   "name": "python",
   "nbconvert_exporter": "python",
   "pygments_lexer": "ipython3",
   "version": "3.7.6"
  }
 },
 "nbformat": 4,
 "nbformat_minor": 4
}
