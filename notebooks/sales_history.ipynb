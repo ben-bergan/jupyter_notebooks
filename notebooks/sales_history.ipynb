{
 "cells": [
  {
   "cell_type": "markdown",
   "metadata": {},
   "source": [
    "### Etsy Sales Data Analysys\n",
    "1. Import and cleanse the data"
   ]
  },
  {
   "cell_type": "code",
   "execution_count": 1,
   "metadata": {},
   "outputs": [],
   "source": [
    "import pandas as pd\n",
    "import datetime\n",
    "import numpy as np"
   ]
  },
  {
   "cell_type": "code",
   "execution_count": 2,
   "metadata": {},
   "outputs": [],
   "source": [
    "file_name = '..//Data//EtsySoldOrderItems2019-{}.csv'\n",
    "df2 = pd.concat([pd.read_csv(file_name.format(i)) for i in range(3, 13)])\n",
    "df2.columns = df2.columns.str.replace(' ','_').str.lower()\n",
    "df2['sale_date'] = pd.to_datetime(df2['sale_date'])\n",
    "df2['sale_month'] = df2['sale_date'].dt.date\n",
    "df2['sale_month'] = df2['sale_month'] + pd.offsets.MonthEnd(0) \n",
    "df2['discount_used'] = np.where(df2['discount_amount']== 0, 0,1)"
   ]
  },
  {
   "cell_type": "code",
   "execution_count": 3,
   "metadata": {},
   "outputs": [],
   "source": [
    "file_name = '..//Data//EtsySoldOrderItems2020-{}.csv'\n",
    "df1 = pd.concat([pd.read_csv(file_name.format(i)) for i in range(1, 13)])\n",
    "df1.columns = df1.columns.str.replace(' ','_').str.lower()\n",
    "df1['sale_date'] = pd.to_datetime(df1['sale_date'])\n",
    "df1['sale_month'] = df1['sale_date'].dt.date\n",
    "df1['sale_month'] = df1['sale_month'] + pd.offsets.MonthEnd(0) \n",
    "df1['discount_used'] = np.where(df1['discount_amount']== 0, 0,1)"
   ]
  },
  {
   "cell_type": "code",
   "execution_count": 4,
   "metadata": {},
   "outputs": [],
   "source": [
    "file_name = '..//Data//EtsySoldOrderItems2021-{}.csv'\n",
    "df = pd.concat([pd.read_csv(file_name.format(i)) for i in range(1, 4)])\n",
    "df.columns = df.columns.str.replace(' ','_').str.lower()\n",
    "df['sale_date'] = pd.to_datetime(df['sale_date'])\n",
    "df['sale_month'] = df['sale_date'].dt.date\n",
    "df['sale_month'] = df['sale_month'] + pd.offsets.MonthEnd(0) \n",
    "df['discount_used'] = np.where(df['discount_amount']== 0, 0,1)"
   ]
  },
  {
   "cell_type": "code",
   "execution_count": 5,
   "metadata": {},
   "outputs": [],
   "source": [
    "raw_data = pd.concat([df,df1,df2])"
   ]
  },
  {
   "cell_type": "code",
   "execution_count": 6,
   "metadata": {},
   "outputs": [
    {
     "data": {
      "text/plain": [
       "(1477, 35)"
      ]
     },
     "execution_count": 6,
     "metadata": {},
     "output_type": "execute_result"
    }
   ],
   "source": [
    "raw_data.shape"
   ]
  },
  {
   "cell_type": "code",
   "execution_count": 15,
   "metadata": {},
   "outputs": [
    {
     "data": {
      "text/html": [
       "<div>\n",
       "<style scoped>\n",
       "    .dataframe tbody tr th:only-of-type {\n",
       "        vertical-align: middle;\n",
       "    }\n",
       "\n",
       "    .dataframe tbody tr th {\n",
       "        vertical-align: top;\n",
       "    }\n",
       "\n",
       "    .dataframe thead th {\n",
       "        text-align: right;\n",
       "    }\n",
       "</style>\n",
       "<table border=\"1\" class=\"dataframe\">\n",
       "  <thead>\n",
       "    <tr style=\"text-align: right;\">\n",
       "      <th></th>\n",
       "      <th>sale_date</th>\n",
       "      <th>item_name</th>\n",
       "      <th>buyer</th>\n",
       "      <th>quantity</th>\n",
       "      <th>price</th>\n",
       "      <th>coupon_code</th>\n",
       "      <th>coupon_details</th>\n",
       "      <th>discount_amount</th>\n",
       "      <th>delivery_discount</th>\n",
       "      <th>order_delivery</th>\n",
       "      <th>...</th>\n",
       "      <th>order_type</th>\n",
       "      <th>listings_type</th>\n",
       "      <th>payment_type</th>\n",
       "      <th>inperson_discount</th>\n",
       "      <th>inperson_location</th>\n",
       "      <th>vat_paid_by_buyer</th>\n",
       "      <th>sku</th>\n",
       "      <th>sale_month</th>\n",
       "      <th>discount_used</th>\n",
       "      <th>item_group</th>\n",
       "    </tr>\n",
       "  </thead>\n",
       "  <tbody>\n",
       "    <tr>\n",
       "      <th>0</th>\n",
       "      <td>2021-01-31</td>\n",
       "      <td>Dolls Bedding - bed cot quilt, Kmart planter h...</td>\n",
       "      <td>Connie (cheggie2011)</td>\n",
       "      <td>1</td>\n",
       "      <td>29.0</td>\n",
       "      <td>NaN</td>\n",
       "      <td>NaN</td>\n",
       "      <td>0.0</td>\n",
       "      <td>0.0</td>\n",
       "      <td>20</td>\n",
       "      <td>...</td>\n",
       "      <td>online</td>\n",
       "      <td>listing</td>\n",
       "      <td>online_cc</td>\n",
       "      <td>NaN</td>\n",
       "      <td>NaN</td>\n",
       "      <td>0</td>\n",
       "      <td>NaN</td>\n",
       "      <td>2021-01-31</td>\n",
       "      <td>0</td>\n",
       "      <td>Doll Bedding</td>\n",
       "    </tr>\n",
       "    <tr>\n",
       "      <th>1</th>\n",
       "      <td>2021-01-30</td>\n",
       "      <td>Wash Cloth organic bamboo cotton, baby wash ba...</td>\n",
       "      <td>Monika (montastic)</td>\n",
       "      <td>1</td>\n",
       "      <td>10.0</td>\n",
       "      <td>CLOTHBUNDLE;CLOTHBUNDLE;CLOTHBUNDLE</td>\n",
       "      <td>CLOTHBUNDLE - % off;CLOTHBUNDLE - % off;CLOTHB...</td>\n",
       "      <td>4.5</td>\n",
       "      <td>0.0</td>\n",
       "      <td>0</td>\n",
       "      <td>...</td>\n",
       "      <td>online</td>\n",
       "      <td>listing</td>\n",
       "      <td>online_cc</td>\n",
       "      <td>NaN</td>\n",
       "      <td>NaN</td>\n",
       "      <td>0</td>\n",
       "      <td>NaN</td>\n",
       "      <td>2021-01-31</td>\n",
       "      <td>1</td>\n",
       "      <td>Wash Cloth</td>\n",
       "    </tr>\n",
       "    <tr>\n",
       "      <th>2</th>\n",
       "      <td>2021-01-30</td>\n",
       "      <td>Native Eucalyptus flannels organic bamboo cott...</td>\n",
       "      <td>Monika (montastic)</td>\n",
       "      <td>1</td>\n",
       "      <td>10.0</td>\n",
       "      <td>CLOTHBUNDLE;CLOTHBUNDLE;CLOTHBUNDLE</td>\n",
       "      <td>CLOTHBUNDLE - % off;CLOTHBUNDLE - % off;CLOTHB...</td>\n",
       "      <td>0.0</td>\n",
       "      <td>0.0</td>\n",
       "      <td>0</td>\n",
       "      <td>...</td>\n",
       "      <td>online</td>\n",
       "      <td>listing</td>\n",
       "      <td>online_cc</td>\n",
       "      <td>NaN</td>\n",
       "      <td>NaN</td>\n",
       "      <td>0</td>\n",
       "      <td>NaN</td>\n",
       "      <td>2021-01-31</td>\n",
       "      <td>0</td>\n",
       "      <td>Wash Cloth</td>\n",
       "    </tr>\n",
       "    <tr>\n",
       "      <th>3</th>\n",
       "      <td>2021-01-30</td>\n",
       "      <td>Wash Cloth organic bamboo cotton, floral baby ...</td>\n",
       "      <td>Monika (montastic)</td>\n",
       "      <td>1</td>\n",
       "      <td>10.0</td>\n",
       "      <td>CLOTHBUNDLE;CLOTHBUNDLE;CLOTHBUNDLE</td>\n",
       "      <td>CLOTHBUNDLE - % off;CLOTHBUNDLE - % off;CLOTHB...</td>\n",
       "      <td>0.0</td>\n",
       "      <td>0.0</td>\n",
       "      <td>0</td>\n",
       "      <td>...</td>\n",
       "      <td>online</td>\n",
       "      <td>listing</td>\n",
       "      <td>online_cc</td>\n",
       "      <td>NaN</td>\n",
       "      <td>NaN</td>\n",
       "      <td>0</td>\n",
       "      <td>NaN</td>\n",
       "      <td>2021-01-31</td>\n",
       "      <td>0</td>\n",
       "      <td>Wash Cloth</td>\n",
       "    </tr>\n",
       "    <tr>\n",
       "      <th>4</th>\n",
       "      <td>2021-01-28</td>\n",
       "      <td>Doll Nappy -21cm/ 38cm Doll, Dolly Diaper, Dol...</td>\n",
       "      <td>NaN</td>\n",
       "      <td>1</td>\n",
       "      <td>9.0</td>\n",
       "      <td>NaN</td>\n",
       "      <td>NaN</td>\n",
       "      <td>0.0</td>\n",
       "      <td>0.0</td>\n",
       "      <td>0</td>\n",
       "      <td>...</td>\n",
       "      <td>online</td>\n",
       "      <td>listing</td>\n",
       "      <td>online_cc</td>\n",
       "      <td>NaN</td>\n",
       "      <td>NaN</td>\n",
       "      <td>0</td>\n",
       "      <td>NaN</td>\n",
       "      <td>2021-01-31</td>\n",
       "      <td>0</td>\n",
       "      <td>Doll Nappy</td>\n",
       "    </tr>\n",
       "  </tbody>\n",
       "</table>\n",
       "<p>5 rows × 36 columns</p>\n",
       "</div>"
      ],
      "text/plain": [
       "   sale_date                                          item_name  \\\n",
       "0 2021-01-31  Dolls Bedding - bed cot quilt, Kmart planter h...   \n",
       "1 2021-01-30  Wash Cloth organic bamboo cotton, baby wash ba...   \n",
       "2 2021-01-30  Native Eucalyptus flannels organic bamboo cott...   \n",
       "3 2021-01-30  Wash Cloth organic bamboo cotton, floral baby ...   \n",
       "4 2021-01-28  Doll Nappy -21cm/ 38cm Doll, Dolly Diaper, Dol...   \n",
       "\n",
       "                  buyer quantity  price                          coupon_code  \\\n",
       "0  Connie (cheggie2011)        1   29.0                                  NaN   \n",
       "1    Monika (montastic)        1   10.0  CLOTHBUNDLE;CLOTHBUNDLE;CLOTHBUNDLE   \n",
       "2    Monika (montastic)        1   10.0  CLOTHBUNDLE;CLOTHBUNDLE;CLOTHBUNDLE   \n",
       "3    Monika (montastic)        1   10.0  CLOTHBUNDLE;CLOTHBUNDLE;CLOTHBUNDLE   \n",
       "4                   NaN        1    9.0                                  NaN   \n",
       "\n",
       "                                      coupon_details  discount_amount  \\\n",
       "0                                                NaN              0.0   \n",
       "1  CLOTHBUNDLE - % off;CLOTHBUNDLE - % off;CLOTHB...              4.5   \n",
       "2  CLOTHBUNDLE - % off;CLOTHBUNDLE - % off;CLOTHB...              0.0   \n",
       "3  CLOTHBUNDLE - % off;CLOTHBUNDLE - % off;CLOTHB...              0.0   \n",
       "4                                                NaN              0.0   \n",
       "\n",
       "   delivery_discount order_delivery  ...  order_type listings_type  \\\n",
       "0                0.0             20  ...      online       listing   \n",
       "1                0.0              0  ...      online       listing   \n",
       "2                0.0              0  ...      online       listing   \n",
       "3                0.0              0  ...      online       listing   \n",
       "4                0.0              0  ...      online       listing   \n",
       "\n",
       "  payment_type inperson_discount inperson_location vat_paid_by_buyer sku  \\\n",
       "0    online_cc               NaN               NaN                 0 NaN   \n",
       "1    online_cc               NaN               NaN                 0 NaN   \n",
       "2    online_cc               NaN               NaN                 0 NaN   \n",
       "3    online_cc               NaN               NaN                 0 NaN   \n",
       "4    online_cc               NaN               NaN                 0 NaN   \n",
       "\n",
       "  sale_month discount_used    item_group  \n",
       "0 2021-01-31             0  Doll Bedding  \n",
       "1 2021-01-31             1    Wash Cloth  \n",
       "2 2021-01-31             0    Wash Cloth  \n",
       "3 2021-01-31             0    Wash Cloth  \n",
       "4 2021-01-31             0    Doll Nappy  \n",
       "\n",
       "[5 rows x 36 columns]"
      ]
     },
     "execution_count": 15,
     "metadata": {},
     "output_type": "execute_result"
    }
   ],
   "source": [
    "raw_data.head(5)"
   ]
  },
  {
   "cell_type": "markdown",
   "metadata": {},
   "source": [
    "### Item categorisation\n",
    "1. Create strings to search against\n",
    "2. Add new item searches below"
   ]
  },
  {
   "cell_type": "code",
   "execution_count": 6,
   "metadata": {},
   "outputs": [],
   "source": [
    "wash_cloth = 'Wash Cloth'\n",
    "wash_cloth_1 = 'Washer'\n",
    "wash_cloth_2 = 'flannels'\n",
    "hair_clip = 'Hair Clip'\n",
    "hair_clip_1 = 'hair clips'\n",
    "hair_clip_2 = 'hair clip'\n",
    "hair_ties = 'Hair Ties'\n",
    "bib = 'Bib'\n",
    "bib_1 = 'bib'\n",
    "burp_cloth = 'Burp Cloth'\n",
    "doll_bedding = 'Doll Bedding'\n",
    "doll_bedding_1 = 'Dolls Bedding'\n",
    "play_mat = 'Play Mat'\n",
    "play_mat_1 = 'play mat'\n",
    "play_mat_2 = 'playmat'\n",
    "doll_nappy = 'Doll Nappy'\n",
    "bow_holder = 'Bow holder'\n",
    "basket = 'basket'\n",
    "clothing = 'romper'"
   ]
  },
  {
   "cell_type": "code",
   "execution_count": 7,
   "metadata": {},
   "outputs": [],
   "source": [
    "def item_group(item_name):\n",
    "    if wash_cloth in item_name or wash_cloth_1 in item_name or wash_cloth_2 in item_name: # Add new item\n",
    "        return 'Wash Cloth'\n",
    "    elif hair_clip in item_name or hair_clip_1 in item_name or hair_clip_2 in item_name:\n",
    "        return 'Hair Clip'\n",
    "    elif bib in item_name or bib_1 in item_name:\n",
    "        return 'Bib'\n",
    "    elif doll_bedding in item_name or doll_bedding_1 in item_name:\n",
    "        return 'Doll Bedding'\n",
    "    elif play_mat in item_name or play_mat_1 in item_name or play_mat_2 in item_name:\n",
    "        return 'Play Mat'\n",
    "    elif doll_nappy in item_name:\n",
    "        return 'Doll Nappy'\n",
    "    elif hair_ties in item_name:\n",
    "        return 'Hair Tie'\n",
    "    elif basket in item_name:\n",
    "        return 'Basket'\n",
    "    elif burp_cloth in item_name:\n",
    "        return 'Burp Cloth'\n",
    "    elif clothing in item_name:\n",
    "        return 'Clothing'\n",
    "    else:\n",
    "        return 'Non Grouped'"
   ]
  },
  {
   "cell_type": "code",
   "execution_count": 8,
   "metadata": {},
   "outputs": [],
   "source": [
    "raw_data['item_group'] = raw_data['item_name'].apply(item_group)"
   ]
  },
  {
   "cell_type": "code",
   "execution_count": 9,
   "metadata": {},
   "outputs": [],
   "source": [
    "raw_data['price'] = raw_data['price'].astype(float)"
   ]
  },
  {
   "cell_type": "markdown",
   "metadata": {},
   "source": [
    "### Initial Data Analysis\n",
    "1. Sales by Month\n",
    "2. Sales by Country\n",
    "3. Discount code usage by Month\n",
    "3. Top selling items\n",
    "4. Top selling recent items"
   ]
  },
  {
   "cell_type": "code",
   "execution_count": 256,
   "metadata": {},
   "outputs": [
    {
     "data": {
      "text/plain": [
       "<matplotlib.axes._subplots.AxesSubplot at 0x7fd189778890>"
      ]
     },
     "execution_count": 256,
     "metadata": {},
     "output_type": "execute_result"
    },
    {
     "data": {
      "image/png": "[encoded data removed]",
      "text/plain": [
       "<Figure size 432x288 with 1 Axes>"
      ]
     },
     "metadata": {
      "needs_background": "light"
     },
     "output_type": "display_data"
    }
   ],
   "source": [
    "raw_data.groupby('sale_month')['quantity'].sum().plot.bar(x='sale_month', y='quantity',title='Monthly Sales')"
   ]
  },
  {
   "cell_type": "code",
   "execution_count": 257,
   "metadata": {},
   "outputs": [
    {
     "data": {
      "text/plain": [
       "<matplotlib.axes._subplots.AxesSubplot at 0x7fd189817850>"
      ]
     },
     "execution_count": 257,
     "metadata": {},
     "output_type": "execute_result"
    },
    {
     "data": {
      "image/png": "[encoded data removed]",
      "text/plain": [
       "<Figure size 432x288 with 1 Axes>"
      ]
     },
     "metadata": {},
     "output_type": "display_data"
    }
   ],
   "source": [
    "raw_data.groupby('delivery_country')['quantity'].sum().plot.pie(x='delivery_country', y='quantity',title='2021 - Products Shipped To')"
   ]
  },
  {
   "cell_type": "code",
   "execution_count": 239,
   "metadata": {},
   "outputs": [
    {
     "data": {
      "text/html": [
       "<div>\n",
       "<style scoped>\n",
       "    .dataframe tbody tr th:only-of-type {\n",
       "        vertical-align: middle;\n",
       "    }\n",
       "\n",
       "    .dataframe tbody tr th {\n",
       "        vertical-align: top;\n",
       "    }\n",
       "\n",
       "    .dataframe thead th {\n",
       "        text-align: right;\n",
       "    }\n",
       "</style>\n",
       "<table border=\"1\" class=\"dataframe\">\n",
       "  <thead>\n",
       "    <tr style=\"text-align: right;\">\n",
       "      <th></th>\n",
       "      <th>discount_used</th>\n",
       "      <th>quantity</th>\n",
       "    </tr>\n",
       "    <tr>\n",
       "      <th>sale_month</th>\n",
       "      <th></th>\n",
       "      <th></th>\n",
       "    </tr>\n",
       "  </thead>\n",
       "  <tbody>\n",
       "    <tr>\n",
       "      <th>2019-04-30</th>\n",
       "      <td>0</td>\n",
       "      <td>1</td>\n",
       "    </tr>\n",
       "    <tr>\n",
       "      <th>2019-05-31</th>\n",
       "      <td>2</td>\n",
       "      <td>9</td>\n",
       "    </tr>\n",
       "    <tr>\n",
       "      <th>2019-06-30</th>\n",
       "      <td>2</td>\n",
       "      <td>6</td>\n",
       "    </tr>\n",
       "    <tr>\n",
       "      <th>2019-07-31</th>\n",
       "      <td>6</td>\n",
       "      <td>33</td>\n",
       "    </tr>\n",
       "    <tr>\n",
       "      <th>2019-08-31</th>\n",
       "      <td>5</td>\n",
       "      <td>41</td>\n",
       "    </tr>\n",
       "    <tr>\n",
       "      <th>2019-09-30</th>\n",
       "      <td>6</td>\n",
       "      <td>44</td>\n",
       "    </tr>\n",
       "    <tr>\n",
       "      <th>2019-10-31</th>\n",
       "      <td>4</td>\n",
       "      <td>45</td>\n",
       "    </tr>\n",
       "    <tr>\n",
       "      <th>2019-11-30</th>\n",
       "      <td>2</td>\n",
       "      <td>22</td>\n",
       "    </tr>\n",
       "    <tr>\n",
       "      <th>2019-12-31</th>\n",
       "      <td>6</td>\n",
       "      <td>63</td>\n",
       "    </tr>\n",
       "    <tr>\n",
       "      <th>2020-01-31</th>\n",
       "      <td>3</td>\n",
       "      <td>46</td>\n",
       "    </tr>\n",
       "    <tr>\n",
       "      <th>2020-02-29</th>\n",
       "      <td>2</td>\n",
       "      <td>40</td>\n",
       "    </tr>\n",
       "    <tr>\n",
       "      <th>2020-03-31</th>\n",
       "      <td>5</td>\n",
       "      <td>62</td>\n",
       "    </tr>\n",
       "    <tr>\n",
       "      <th>2020-04-30</th>\n",
       "      <td>6</td>\n",
       "      <td>133</td>\n",
       "    </tr>\n",
       "    <tr>\n",
       "      <th>2020-05-31</th>\n",
       "      <td>9</td>\n",
       "      <td>103</td>\n",
       "    </tr>\n",
       "    <tr>\n",
       "      <th>2020-06-30</th>\n",
       "      <td>7</td>\n",
       "      <td>61</td>\n",
       "    </tr>\n",
       "    <tr>\n",
       "      <th>2020-07-31</th>\n",
       "      <td>12</td>\n",
       "      <td>146</td>\n",
       "    </tr>\n",
       "    <tr>\n",
       "      <th>2020-08-31</th>\n",
       "      <td>10</td>\n",
       "      <td>76</td>\n",
       "    </tr>\n",
       "    <tr>\n",
       "      <th>2020-09-30</th>\n",
       "      <td>11</td>\n",
       "      <td>97</td>\n",
       "    </tr>\n",
       "    <tr>\n",
       "      <th>2020-10-31</th>\n",
       "      <td>4</td>\n",
       "      <td>65</td>\n",
       "    </tr>\n",
       "    <tr>\n",
       "      <th>2020-11-30</th>\n",
       "      <td>13</td>\n",
       "      <td>143</td>\n",
       "    </tr>\n",
       "    <tr>\n",
       "      <th>2020-12-31</th>\n",
       "      <td>8</td>\n",
       "      <td>99</td>\n",
       "    </tr>\n",
       "    <tr>\n",
       "      <th>2021-01-31</th>\n",
       "      <td>4</td>\n",
       "      <td>47</td>\n",
       "    </tr>\n",
       "    <tr>\n",
       "      <th>2021-02-28</th>\n",
       "      <td>6</td>\n",
       "      <td>102</td>\n",
       "    </tr>\n",
       "    <tr>\n",
       "      <th>2021-03-31</th>\n",
       "      <td>9</td>\n",
       "      <td>82</td>\n",
       "    </tr>\n",
       "  </tbody>\n",
       "</table>\n",
       "</div>"
      ],
      "text/plain": [
       "            discount_used  quantity\n",
       "sale_month                         \n",
       "2019-04-30              0         1\n",
       "2019-05-31              2         9\n",
       "2019-06-30              2         6\n",
       "2019-07-31              6        33\n",
       "2019-08-31              5        41\n",
       "2019-09-30              6        44\n",
       "2019-10-31              4        45\n",
       "2019-11-30              2        22\n",
       "2019-12-31              6        63\n",
       "2020-01-31              3        46\n",
       "2020-02-29              2        40\n",
       "2020-03-31              5        62\n",
       "2020-04-30              6       133\n",
       "2020-05-31              9       103\n",
       "2020-06-30              7        61\n",
       "2020-07-31             12       146\n",
       "2020-08-31             10        76\n",
       "2020-09-30             11        97\n",
       "2020-10-31              4        65\n",
       "2020-11-30             13       143\n",
       "2020-12-31              8        99\n",
       "2021-01-31              4        47\n",
       "2021-02-28              6       102\n",
       "2021-03-31              9        82"
      ]
     },
     "execution_count": 239,
     "metadata": {},
     "output_type": "execute_result"
    }
   ],
   "source": [
    "raw_data.groupby('sale_month').agg({'discount_used': 'sum', 'quantity': 'sum'})"
   ]
  },
  {
   "cell_type": "code",
   "execution_count": 11,
   "metadata": {},
   "outputs": [
    {
     "data": {
      "text/html": [
       "<div>\n",
       "<style scoped>\n",
       "    .dataframe tbody tr th:only-of-type {\n",
       "        vertical-align: middle;\n",
       "    }\n",
       "\n",
       "    .dataframe tbody tr th {\n",
       "        vertical-align: top;\n",
       "    }\n",
       "\n",
       "    .dataframe thead th {\n",
       "        text-align: right;\n",
       "    }\n",
       "</style>\n",
       "<table border=\"1\" class=\"dataframe\">\n",
       "  <thead>\n",
       "    <tr style=\"text-align: right;\">\n",
       "      <th></th>\n",
       "      <th>quantity</th>\n",
       "      <th>price</th>\n",
       "    </tr>\n",
       "    <tr>\n",
       "      <th>item_group</th>\n",
       "      <th></th>\n",
       "      <th></th>\n",
       "    </tr>\n",
       "  </thead>\n",
       "  <tbody>\n",
       "    <tr>\n",
       "      <th>Basket</th>\n",
       "      <td>56</td>\n",
       "      <td>1617.0</td>\n",
       "    </tr>\n",
       "    <tr>\n",
       "      <th>Bib</th>\n",
       "      <td>290</td>\n",
       "      <td>3453.0</td>\n",
       "    </tr>\n",
       "    <tr>\n",
       "      <th>Burp Cloth</th>\n",
       "      <td>30</td>\n",
       "      <td>447.0</td>\n",
       "    </tr>\n",
       "    <tr>\n",
       "      <th>Clothing</th>\n",
       "      <td>74</td>\n",
       "      <td>2498.0</td>\n",
       "    </tr>\n",
       "    <tr>\n",
       "      <th>Doll Bedding</th>\n",
       "      <td>154</td>\n",
       "      <td>4062.0</td>\n",
       "    </tr>\n",
       "    <tr>\n",
       "      <th>Doll Nappy</th>\n",
       "      <td>60</td>\n",
       "      <td>622.5</td>\n",
       "    </tr>\n",
       "    <tr>\n",
       "      <th>Hair Clip</th>\n",
       "      <td>316</td>\n",
       "      <td>2790.0</td>\n",
       "    </tr>\n",
       "    <tr>\n",
       "      <th>Hair Tie</th>\n",
       "      <td>15</td>\n",
       "      <td>78.0</td>\n",
       "    </tr>\n",
       "    <tr>\n",
       "      <th>Non Grouped</th>\n",
       "      <td>120</td>\n",
       "      <td>5046.5</td>\n",
       "    </tr>\n",
       "    <tr>\n",
       "      <th>Play Mat</th>\n",
       "      <td>136</td>\n",
       "      <td>11274.0</td>\n",
       "    </tr>\n",
       "    <tr>\n",
       "      <th>Wash Cloth</th>\n",
       "      <td>315</td>\n",
       "      <td>2802.0</td>\n",
       "    </tr>\n",
       "  </tbody>\n",
       "</table>\n",
       "</div>"
      ],
      "text/plain": [
       "              quantity    price\n",
       "item_group                     \n",
       "Basket              56   1617.0\n",
       "Bib                290   3453.0\n",
       "Burp Cloth          30    447.0\n",
       "Clothing            74   2498.0\n",
       "Doll Bedding       154   4062.0\n",
       "Doll Nappy          60    622.5\n",
       "Hair Clip          316   2790.0\n",
       "Hair Tie            15     78.0\n",
       "Non Grouped        120   5046.5\n",
       "Play Mat           136  11274.0\n",
       "Wash Cloth         315   2802.0"
      ]
     },
     "execution_count": 11,
     "metadata": {},
     "output_type": "execute_result"
    }
   ],
   "source": [
    "raw_data.groupby(['item_group']).agg({'quantity': 'sum','price':'sum'})"
   ]
  },
  {
   "cell_type": "code",
   "execution_count": 12,
   "metadata": {},
   "outputs": [],
   "source": [
    "recent = raw_data[(raw_data['sale_month'] == '2021-03-31') | (raw_data['sale_month'] == '2021-02-28') | (raw_data['sale_month'] == '2021-01-31')]"
   ]
  },
  {
   "cell_type": "code",
   "execution_count": 109,
   "metadata": {},
   "outputs": [],
   "source": [
    "recent_sort = recent.groupby(['item_group']).agg({'quantity': 'sum', 'price':'sum'})"
   ]
  },
  {
   "cell_type": "code",
   "execution_count": 110,
   "metadata": {},
   "outputs": [
    {
     "data": {
      "text/html": [
       "<div>\n",
       "<style scoped>\n",
       "    .dataframe tbody tr th:only-of-type {\n",
       "        vertical-align: middle;\n",
       "    }\n",
       "\n",
       "    .dataframe tbody tr th {\n",
       "        vertical-align: top;\n",
       "    }\n",
       "\n",
       "    .dataframe thead th {\n",
       "        text-align: right;\n",
       "    }\n",
       "</style>\n",
       "<table border=\"1\" class=\"dataframe\">\n",
       "  <thead>\n",
       "    <tr style=\"text-align: right;\">\n",
       "      <th></th>\n",
       "      <th>quantity</th>\n",
       "      <th>price</th>\n",
       "    </tr>\n",
       "    <tr>\n",
       "      <th>item_group</th>\n",
       "      <th></th>\n",
       "      <th></th>\n",
       "    </tr>\n",
       "  </thead>\n",
       "  <tbody>\n",
       "    <tr>\n",
       "      <th>Wash Cloth</th>\n",
       "      <td>62</td>\n",
       "      <td>502.0</td>\n",
       "    </tr>\n",
       "    <tr>\n",
       "      <th>Bib</th>\n",
       "      <td>47</td>\n",
       "      <td>601.0</td>\n",
       "    </tr>\n",
       "    <tr>\n",
       "      <th>Hair Clip</th>\n",
       "      <td>27</td>\n",
       "      <td>323.0</td>\n",
       "    </tr>\n",
       "    <tr>\n",
       "      <th>Doll Nappy</th>\n",
       "      <td>23</td>\n",
       "      <td>223.0</td>\n",
       "    </tr>\n",
       "    <tr>\n",
       "      <th>Non Grouped</th>\n",
       "      <td>21</td>\n",
       "      <td>693.0</td>\n",
       "    </tr>\n",
       "    <tr>\n",
       "      <th>Doll Bedding</th>\n",
       "      <td>19</td>\n",
       "      <td>510.0</td>\n",
       "    </tr>\n",
       "    <tr>\n",
       "      <th>Play Mat</th>\n",
       "      <td>19</td>\n",
       "      <td>1546.0</td>\n",
       "    </tr>\n",
       "    <tr>\n",
       "      <th>Basket</th>\n",
       "      <td>8</td>\n",
       "      <td>225.0</td>\n",
       "    </tr>\n",
       "    <tr>\n",
       "      <th>Burp Cloth</th>\n",
       "      <td>3</td>\n",
       "      <td>39.0</td>\n",
       "    </tr>\n",
       "    <tr>\n",
       "      <th>Clothing</th>\n",
       "      <td>2</td>\n",
       "      <td>72.0</td>\n",
       "    </tr>\n",
       "  </tbody>\n",
       "</table>\n",
       "</div>"
      ],
      "text/plain": [
       "              quantity   price\n",
       "item_group                    \n",
       "Wash Cloth          62   502.0\n",
       "Bib                 47   601.0\n",
       "Hair Clip           27   323.0\n",
       "Doll Nappy          23   223.0\n",
       "Non Grouped         21   693.0\n",
       "Doll Bedding        19   510.0\n",
       "Play Mat            19  1546.0\n",
       "Basket               8   225.0\n",
       "Burp Cloth           3    39.0\n",
       "Clothing             2    72.0"
      ]
     },
     "execution_count": 110,
     "metadata": {},
     "output_type": "execute_result"
    }
   ],
   "source": [
    "recent_sort.sort_values(by = 'quantity', ascending=False).head(10)"
   ]
  },
  {
   "cell_type": "code",
   "execution_count": null,
   "metadata": {},
   "outputs": [],
   "source": [
    "multi_orders = raw_data.groupby(['delivery_name']).agg({'quantity': 'sum','order_id':'nunique', 'price':'sum'})"
   ]
  },
  {
   "cell_type": "code",
   "execution_count": 84,
   "metadata": {},
   "outputs": [
    {
     "data": {
      "text/html": [
       "<div>\n",
       "<style scoped>\n",
       "    .dataframe tbody tr th:only-of-type {\n",
       "        vertical-align: middle;\n",
       "    }\n",
       "\n",
       "    .dataframe tbody tr th {\n",
       "        vertical-align: top;\n",
       "    }\n",
       "\n",
       "    .dataframe thead th {\n",
       "        text-align: right;\n",
       "    }\n",
       "</style>\n",
       "<table border=\"1\" class=\"dataframe\">\n",
       "  <thead>\n",
       "    <tr style=\"text-align: right;\">\n",
       "      <th></th>\n",
       "      <th>quantity</th>\n",
       "      <th>order_id</th>\n",
       "      <th>price</th>\n",
       "    </tr>\n",
       "    <tr>\n",
       "      <th>delivery_name</th>\n",
       "      <th></th>\n",
       "      <th></th>\n",
       "      <th></th>\n",
       "    </tr>\n",
       "  </thead>\n",
       "  <tbody>\n",
       "    <tr>\n",
       "      <th>Haylee Turner</th>\n",
       "      <td>14</td>\n",
       "      <td>8</td>\n",
       "      <td>379.0</td>\n",
       "    </tr>\n",
       "    <tr>\n",
       "      <th>Kaitlyn Wise</th>\n",
       "      <td>10</td>\n",
       "      <td>7</td>\n",
       "      <td>228.0</td>\n",
       "    </tr>\n",
       "    <tr>\n",
       "      <th>Claire Boyce</th>\n",
       "      <td>10</td>\n",
       "      <td>7</td>\n",
       "      <td>204.0</td>\n",
       "    </tr>\n",
       "    <tr>\n",
       "      <th>Kirsty Finch</th>\n",
       "      <td>8</td>\n",
       "      <td>6</td>\n",
       "      <td>143.5</td>\n",
       "    </tr>\n",
       "    <tr>\n",
       "      <th>Chrystal Dow</th>\n",
       "      <td>6</td>\n",
       "      <td>5</td>\n",
       "      <td>317.5</td>\n",
       "    </tr>\n",
       "    <tr>\n",
       "      <th>Cassie Parnaby</th>\n",
       "      <td>9</td>\n",
       "      <td>5</td>\n",
       "      <td>259.0</td>\n",
       "    </tr>\n",
       "    <tr>\n",
       "      <th>Stephanie Curran</th>\n",
       "      <td>17</td>\n",
       "      <td>5</td>\n",
       "      <td>195.0</td>\n",
       "    </tr>\n",
       "    <tr>\n",
       "      <th>Rowena Fawole</th>\n",
       "      <td>5</td>\n",
       "      <td>4</td>\n",
       "      <td>139.0</td>\n",
       "    </tr>\n",
       "    <tr>\n",
       "      <th>Melissa Camilleri</th>\n",
       "      <td>8</td>\n",
       "      <td>3</td>\n",
       "      <td>67.0</td>\n",
       "    </tr>\n",
       "    <tr>\n",
       "      <th>Victoria Mohammed</th>\n",
       "      <td>7</td>\n",
       "      <td>3</td>\n",
       "      <td>135.0</td>\n",
       "    </tr>\n",
       "  </tbody>\n",
       "</table>\n",
       "</div>"
      ],
      "text/plain": [
       "                   quantity  order_id  price\n",
       "delivery_name                               \n",
       "Haylee Turner            14         8  379.0\n",
       "Kaitlyn Wise             10         7  228.0\n",
       "Claire Boyce             10         7  204.0\n",
       "Kirsty Finch              8         6  143.5\n",
       "Chrystal Dow              6         5  317.5\n",
       "Cassie Parnaby            9         5  259.0\n",
       "Stephanie Curran         17         5  195.0\n",
       "Rowena Fawole             5         4  139.0\n",
       "Melissa Camilleri         8         3   67.0\n",
       "Victoria Mohammed         7         3  135.0"
      ]
     },
     "execution_count": 84,
     "metadata": {},
     "output_type": "execute_result"
    }
   ],
   "source": [
    "multi_orders.sort_values(by = 'order_id', ascending=False).head(10)"
   ]
  },
  {
   "cell_type": "markdown",
   "metadata": {},
   "source": [
    "### Item count\n",
    "1. Investing highest selling items"
   ]
  },
  {
   "cell_type": "code",
   "execution_count": 86,
   "metadata": {},
   "outputs": [],
   "source": [
    "item_count = raw_data.groupby(['item_name']).agg({'quantity': 'sum','order_id':'nunique', 'price':'sum'})"
   ]
  },
  {
   "cell_type": "code",
   "execution_count": 88,
   "metadata": {},
   "outputs": [
    {
     "data": {
      "text/html": [
       "<div>\n",
       "<style scoped>\n",
       "    .dataframe tbody tr th:only-of-type {\n",
       "        vertical-align: middle;\n",
       "    }\n",
       "\n",
       "    .dataframe tbody tr th {\n",
       "        vertical-align: top;\n",
       "    }\n",
       "\n",
       "    .dataframe thead th {\n",
       "        text-align: right;\n",
       "    }\n",
       "</style>\n",
       "<table border=\"1\" class=\"dataframe\">\n",
       "  <thead>\n",
       "    <tr style=\"text-align: right;\">\n",
       "      <th></th>\n",
       "      <th>quantity</th>\n",
       "      <th>order_id</th>\n",
       "      <th>price</th>\n",
       "    </tr>\n",
       "    <tr>\n",
       "      <th>item_name</th>\n",
       "      <th></th>\n",
       "      <th></th>\n",
       "      <th></th>\n",
       "    </tr>\n",
       "  </thead>\n",
       "  <tbody>\n",
       "    <tr>\n",
       "      <th>Velvet Snap Hair Clip | Single clip or a Set of two - Olive &amp; Miles - Free Postage</th>\n",
       "      <td>110</td>\n",
       "      <td>70</td>\n",
       "      <td>741.0</td>\n",
       "    </tr>\n",
       "    <tr>\n",
       "      <th>Wash Cloth organic bamboo cotton, floral baby wash bath cloth, face washer, reusable face wipes, baby girl gift, Olive &amp; Miles - FREE POST</th>\n",
       "      <td>90</td>\n",
       "      <td>51</td>\n",
       "      <td>914.0</td>\n",
       "    </tr>\n",
       "    <tr>\n",
       "      <th>Baby girl pink floral bib, reversible vintage style bib, smash cake bib, boho fringe girl bib, first birthday bib, olive &amp; miles FREE POST</th>\n",
       "      <td>89</td>\n",
       "      <td>84</td>\n",
       "      <td>1028.0</td>\n",
       "    </tr>\n",
       "    <tr>\n",
       "      <th>Wash Cloth organic bamboo cotton, baby wash bath cloth, double gauze face washer, reusable face wipes, baby gift, Olive &amp; Miles - FREE POST</th>\n",
       "      <td>87</td>\n",
       "      <td>39</td>\n",
       "      <td>740.0</td>\n",
       "    </tr>\n",
       "    <tr>\n",
       "      <th>Corduroy Fabric Hair Clip | One clip or a set of two - Olive &amp; Miles - Free Postage</th>\n",
       "      <td>68</td>\n",
       "      <td>41</td>\n",
       "      <td>372.0</td>\n",
       "    </tr>\n",
       "    <tr>\n",
       "      <th>Wash Cloth organic bamboo cotton, baby wash bath cloth, mcn cloth nappy, face washer, reusable face wipes, baby gift, Olive &amp; Miles</th>\n",
       "      <td>52</td>\n",
       "      <td>27</td>\n",
       "      <td>488.0</td>\n",
       "    </tr>\n",
       "    <tr>\n",
       "      <th>Washer organic bamboo cotton, native floral baby wash bath cloth, eucalyptus face washer, reusable face wipes, baby gift, Olive &amp; Miles</th>\n",
       "      <td>44</td>\n",
       "      <td>22</td>\n",
       "      <td>409.0</td>\n",
       "    </tr>\n",
       "    <tr>\n",
       "      <th>Pastel Snap Hair Clip | Gingham pink blue mustard - Set of two - Olive &amp; Miles - Free Postage</th>\n",
       "      <td>40</td>\n",
       "      <td>28</td>\n",
       "      <td>320.0</td>\n",
       "    </tr>\n",
       "    <tr>\n",
       "      <th>Reversible linen vintage style bib, baby girl linen gingham, smash cake bib, boho fringe bib, first birthday bib, olive &amp; miles FREE POST</th>\n",
       "      <td>37</td>\n",
       "      <td>36</td>\n",
       "      <td>442.0</td>\n",
       "    </tr>\n",
       "    <tr>\n",
       "      <th>Dolls Bedding - cot mattress, miniland bed, doll mattress, kmart doll bedding - Olive &amp; Miles</th>\n",
       "      <td>35</td>\n",
       "      <td>34</td>\n",
       "      <td>734.0</td>\n",
       "    </tr>\n",
       "  </tbody>\n",
       "</table>\n",
       "</div>"
      ],
      "text/plain": [
       "                                                    quantity  order_id   price\n",
       "item_name                                                                     \n",
       "Velvet Snap Hair Clip | Single clip or a Set of...       110        70   741.0\n",
       "Wash Cloth organic bamboo cotton, floral baby w...        90        51   914.0\n",
       "Baby girl pink floral bib, reversible vintage s...        89        84  1028.0\n",
       "Wash Cloth organic bamboo cotton, baby wash bat...        87        39   740.0\n",
       "Corduroy Fabric Hair Clip | One clip or a set o...        68        41   372.0\n",
       "Wash Cloth organic bamboo cotton, baby wash bat...        52        27   488.0\n",
       "Washer organic bamboo cotton, native floral bab...        44        22   409.0\n",
       "Pastel Snap Hair Clip | Gingham pink blue musta...        40        28   320.0\n",
       "Reversible linen vintage style bib, baby girl l...        37        36   442.0\n",
       "Dolls Bedding - cot mattress, miniland bed, dol...        35        34   734.0"
      ]
     },
     "execution_count": 88,
     "metadata": {},
     "output_type": "execute_result"
    }
   ],
   "source": [
    "item_count.sort_values(by = 'quantity', ascending=False).head(10)"
   ]
  },
  {
   "cell_type": "markdown",
   "metadata": {},
   "source": [
    "### Wash cloth analysis\n",
    "1. Investing top selling variations"
   ]
  },
  {
   "cell_type": "code",
   "execution_count": 94,
   "metadata": {},
   "outputs": [],
   "source": [
    "wash_cloth_all = raw_data[raw_data['item_group']=='Wash Cloth']"
   ]
  },
  {
   "cell_type": "code",
   "execution_count": 100,
   "metadata": {},
   "outputs": [],
   "source": [
    "wash_cloth_group = wash_cloth_all.groupby(['variations']).agg({'quantity': 'sum', 'price':'sum'})"
   ]
  },
  {
   "cell_type": "code",
   "execution_count": 101,
   "metadata": {},
   "outputs": [
    {
     "data": {
      "text/html": [
       "<div>\n",
       "<style scoped>\n",
       "    .dataframe tbody tr th:only-of-type {\n",
       "        vertical-align: middle;\n",
       "    }\n",
       "\n",
       "    .dataframe tbody tr th {\n",
       "        vertical-align: top;\n",
       "    }\n",
       "\n",
       "    .dataframe thead th {\n",
       "        text-align: right;\n",
       "    }\n",
       "</style>\n",
       "<table border=\"1\" class=\"dataframe\">\n",
       "  <thead>\n",
       "    <tr style=\"text-align: right;\">\n",
       "      <th></th>\n",
       "      <th>quantity</th>\n",
       "      <th>price</th>\n",
       "    </tr>\n",
       "    <tr>\n",
       "      <th>variations</th>\n",
       "      <th></th>\n",
       "      <th></th>\n",
       "    </tr>\n",
       "  </thead>\n",
       "  <tbody>\n",
       "    <tr>\n",
       "      <th>Colour:Protea floral</th>\n",
       "      <td>20</td>\n",
       "      <td>197.0</td>\n",
       "    </tr>\n",
       "    <tr>\n",
       "      <th>Colour:Peony</th>\n",
       "      <td>18</td>\n",
       "      <td>161.0</td>\n",
       "    </tr>\n",
       "    <tr>\n",
       "      <th>Colour:Mixed Eucalyptus</th>\n",
       "      <td>18</td>\n",
       "      <td>142.0</td>\n",
       "    </tr>\n",
       "    <tr>\n",
       "      <th>Colour:Autumn Floral</th>\n",
       "      <td>18</td>\n",
       "      <td>152.0</td>\n",
       "    </tr>\n",
       "    <tr>\n",
       "      <th>Colour:Eucalyptus</th>\n",
       "      <td>16</td>\n",
       "      <td>174.0</td>\n",
       "    </tr>\n",
       "    <tr>\n",
       "      <th>Colour:Watercolour floral</th>\n",
       "      <td>16</td>\n",
       "      <td>174.0</td>\n",
       "    </tr>\n",
       "    <tr>\n",
       "      <th>Colour:Dark Pink</th>\n",
       "      <td>13</td>\n",
       "      <td>120.0</td>\n",
       "    </tr>\n",
       "    <tr>\n",
       "      <th>Colour:Baby Pink</th>\n",
       "      <td>12</td>\n",
       "      <td>100.0</td>\n",
       "    </tr>\n",
       "    <tr>\n",
       "      <th>Colour:Purple mini floral</th>\n",
       "      <td>12</td>\n",
       "      <td>129.0</td>\n",
       "    </tr>\n",
       "    <tr>\n",
       "      <th>Colour:Blue</th>\n",
       "      <td>12</td>\n",
       "      <td>70.0</td>\n",
       "    </tr>\n",
       "  </tbody>\n",
       "</table>\n",
       "</div>"
      ],
      "text/plain": [
       "                           quantity  price\n",
       "variations                                \n",
       "Colour:Protea floral             20  197.0\n",
       "Colour:Peony                     18  161.0\n",
       "Colour:Mixed Eucalyptus          18  142.0\n",
       "Colour:Autumn Floral             18  152.0\n",
       "Colour:Eucalyptus                16  174.0\n",
       "Colour:Watercolour floral        16  174.0\n",
       "Colour:Dark Pink                 13  120.0\n",
       "Colour:Baby Pink                 12  100.0\n",
       "Colour:Purple mini floral        12  129.0\n",
       "Colour:Blue                      12   70.0"
      ]
     },
     "execution_count": 101,
     "metadata": {},
     "output_type": "execute_result"
    }
   ],
   "source": [
    "wash_cloth_group.sort_values(by = 'quantity', ascending=False).head(10)"
   ]
  },
  {
   "cell_type": "markdown",
   "metadata": {},
   "source": [
    "### Top selling play mats"
   ]
  },
  {
   "cell_type": "code",
   "execution_count": 104,
   "metadata": {},
   "outputs": [],
   "source": [
    "play_mats = raw_data[raw_data['item_group']=='Play Mat']"
   ]
  },
  {
   "cell_type": "code",
   "execution_count": 107,
   "metadata": {},
   "outputs": [],
   "source": [
    "play_mats_grp = play_mats.groupby(['item_name']).agg({'quantity': 'sum', 'price':'sum'})"
   ]
  },
  {
   "cell_type": "code",
   "execution_count": 108,
   "metadata": {},
   "outputs": [
    {
     "data": {
      "text/html": [
       "<div>\n",
       "<style scoped>\n",
       "    .dataframe tbody tr th:only-of-type {\n",
       "        vertical-align: middle;\n",
       "    }\n",
       "\n",
       "    .dataframe tbody tr th {\n",
       "        vertical-align: top;\n",
       "    }\n",
       "\n",
       "    .dataframe thead th {\n",
       "        text-align: right;\n",
       "    }\n",
       "</style>\n",
       "<table border=\"1\" class=\"dataframe\">\n",
       "  <thead>\n",
       "    <tr style=\"text-align: right;\">\n",
       "      <th></th>\n",
       "      <th>quantity</th>\n",
       "      <th>price</th>\n",
       "    </tr>\n",
       "    <tr>\n",
       "      <th>item_name</th>\n",
       "      <th></th>\n",
       "      <th></th>\n",
       "    </tr>\n",
       "  </thead>\n",
       "  <tbody>\n",
       "    <tr>\n",
       "      <th>Velvet Dusty Pink play mat / rug, baby girl playmat, tummy time, quilted padded mat, pink rug, play nursery rug, Olive &amp; Miles - FREE POST</th>\n",
       "      <td>25</td>\n",
       "      <td>2064.0</td>\n",
       "    </tr>\n",
       "    <tr>\n",
       "      <th>Velvet playmat/rug - FREE POSTAGE, baby play mat, newborn tummy time, quilted padded baby mat, dusty green play nursery rug, Olive &amp; Miles</th>\n",
       "      <td>16</td>\n",
       "      <td>1290.0</td>\n",
       "    </tr>\n",
       "    <tr>\n",
       "      <th>Wildflower playmat/rug - FREE POSTAGE, baby play mat, newborn tummy time, Australian padded baby mat, floral play nursery rug, Olive &amp; Miles</th>\n",
       "      <td>12</td>\n",
       "      <td>1213.0</td>\n",
       "    </tr>\n",
       "    <tr>\n",
       "      <th>Velvet playmat/rug - FREE POSTAGE, baby play mat, newborn tummy time, quilted padded baby mat, dusty sage play nursery rug, Olive &amp; Miles</th>\n",
       "      <td>9</td>\n",
       "      <td>692.0</td>\n",
       "    </tr>\n",
       "    <tr>\n",
       "      <th>Doll play mat, doll accessories, pretend play, sibling gift, miniland born dolly round play mat, baby girl nursery - Olive &amp; Miles</th>\n",
       "      <td>9</td>\n",
       "      <td>286.0</td>\n",
       "    </tr>\n",
       "    <tr>\n",
       "      <th>Eucalyptus playmat/rug - FREE POSTAGE, baby play mat, newborn tummy time, Australian padded baby mat, unisex play nursery rug, Olive &amp; Miles</th>\n",
       "      <td>8</td>\n",
       "      <td>811.0</td>\n",
       "    </tr>\n",
       "    <tr>\n",
       "      <th>Velvet round Bean bag/ floor mat/ playmat/ rug/ floor cushion, play mat pink, baby girl nursery, pink bean bag rug cushion - Olive &amp; Miles</th>\n",
       "      <td>6</td>\n",
       "      <td>509.0</td>\n",
       "    </tr>\n",
       "    <tr>\n",
       "      <th>Velvet cream play mat / rug, baby girl boy playmat, tummy time, quilted padded mat, boho rug, unisex nursery rug, Olive &amp; Miles - FREE POST</th>\n",
       "      <td>5</td>\n",
       "      <td>340.0</td>\n",
       "    </tr>\n",
       "    <tr>\n",
       "      <th>Velvet cream play mat / rug, baby girl boy playmat, tummy time, quilted bay mat, boho rug, unisex nursery rug, Olive &amp; Miles - FREE POST</th>\n",
       "      <td>4</td>\n",
       "      <td>275.0</td>\n",
       "    </tr>\n",
       "    <tr>\n",
       "      <th>Velvet round floor mat/ playmat/ rug /bean bag/ floor cushion, play mat pink, baby girl nursery, pink bean bag rug cushion - Olive &amp; Miles</th>\n",
       "      <td>3</td>\n",
       "      <td>252.0</td>\n",
       "    </tr>\n",
       "  </tbody>\n",
       "</table>\n",
       "</div>"
      ],
      "text/plain": [
       "                                                    quantity   price\n",
       "item_name                                                           \n",
       "Velvet Dusty Pink play mat / rug, baby girl pla...        25  2064.0\n",
       "Velvet playmat/rug - FREE POSTAGE, baby play ma...        16  1290.0\n",
       "Wildflower playmat/rug - FREE POSTAGE, baby pla...        12  1213.0\n",
       "Velvet playmat/rug - FREE POSTAGE, baby play ma...         9   692.0\n",
       "Doll play mat, doll accessories, pretend play, ...         9   286.0\n",
       "Eucalyptus playmat/rug - FREE POSTAGE, baby pla...         8   811.0\n",
       "Velvet round Bean bag/ floor mat/ playmat/ rug/...         6   509.0\n",
       "Velvet cream play mat / rug, baby girl boy play...         5   340.0\n",
       "Velvet cream play mat / rug, baby girl boy play...         4   275.0\n",
       "Velvet round floor mat/ playmat/ rug /bean bag/...         3   252.0"
      ]
     },
     "execution_count": 108,
     "metadata": {},
     "output_type": "execute_result"
    }
   ],
   "source": [
    "play_mats_grp.sort_values(by = 'quantity', ascending=False).head(10)"
   ]
  },
  {
   "cell_type": "markdown",
   "metadata": {},
   "source": [
    "### Basket Variation Sales"
   ]
  },
  {
   "cell_type": "code",
   "execution_count": 10,
   "metadata": {},
   "outputs": [],
   "source": [
    "baskets = raw_data[raw_data['item_group']=='Basket']"
   ]
  },
  {
   "cell_type": "code",
   "execution_count": 11,
   "metadata": {},
   "outputs": [],
   "source": [
    "baskets_grp = baskets.groupby(['variations']).agg({'quantity': 'sum', 'price':'sum'})"
   ]
  },
  {
   "cell_type": "code",
   "execution_count": 13,
   "metadata": {},
   "outputs": [
    {
     "data": {
      "text/html": [
       "<div>\n",
       "<style scoped>\n",
       "    .dataframe tbody tr th:only-of-type {\n",
       "        vertical-align: middle;\n",
       "    }\n",
       "\n",
       "    .dataframe tbody tr th {\n",
       "        vertical-align: top;\n",
       "    }\n",
       "\n",
       "    .dataframe thead th {\n",
       "        text-align: right;\n",
       "    }\n",
       "</style>\n",
       "<table border=\"1\" class=\"dataframe\">\n",
       "  <thead>\n",
       "    <tr style=\"text-align: right;\">\n",
       "      <th></th>\n",
       "      <th>quantity</th>\n",
       "      <th>price</th>\n",
       "    </tr>\n",
       "    <tr>\n",
       "      <th>variations</th>\n",
       "      <th></th>\n",
       "      <th></th>\n",
       "    </tr>\n",
       "  </thead>\n",
       "  <tbody>\n",
       "    <tr>\n",
       "      <th>basket:Medium</th>\n",
       "      <td>20</td>\n",
       "      <td>580.0</td>\n",
       "    </tr>\n",
       "    <tr>\n",
       "      <th>basket:Small</th>\n",
       "      <td>13</td>\n",
       "      <td>325.0</td>\n",
       "    </tr>\n",
       "    <tr>\n",
       "      <th>basket:Large</th>\n",
       "      <td>12</td>\n",
       "      <td>384.0</td>\n",
       "    </tr>\n",
       "    <tr>\n",
       "      <th>basket:Petite</th>\n",
       "      <td>2</td>\n",
       "      <td>36.0</td>\n",
       "    </tr>\n",
       "    <tr>\n",
       "      <th>Colours:Baby Pink,Personalisation:Baby pink and blue please</th>\n",
       "      <td>1</td>\n",
       "      <td>25.0</td>\n",
       "    </tr>\n",
       "    <tr>\n",
       "      <th>Colours:Grey,Personalisation:Two grey please.</th>\n",
       "      <td>1</td>\n",
       "      <td>25.0</td>\n",
       "    </tr>\n",
       "    <tr>\n",
       "      <th>Colours:Hot Pink,Personalisation:Hot pink and white please</th>\n",
       "      <td>1</td>\n",
       "      <td>25.0</td>\n",
       "    </tr>\n",
       "    <tr>\n",
       "      <th>First Basket:Blue,Second Basket:Baby Pink</th>\n",
       "      <td>1</td>\n",
       "      <td>25.0</td>\n",
       "    </tr>\n",
       "  </tbody>\n",
       "</table>\n",
       "</div>"
      ],
      "text/plain": [
       "                                                    quantity  price\n",
       "variations                                                         \n",
       "basket:Medium                                             20  580.0\n",
       "basket:Small                                              13  325.0\n",
       "basket:Large                                              12  384.0\n",
       "basket:Petite                                              2   36.0\n",
       "Colours:Baby Pink,Personalisation:Baby pink and...         1   25.0\n",
       "Colours:Grey,Personalisation:Two grey please.              1   25.0\n",
       "Colours:Hot Pink,Personalisation:Hot pink and w...         1   25.0\n",
       "First Basket:Blue,Second Basket:Baby Pink                  1   25.0"
      ]
     },
     "execution_count": 13,
     "metadata": {},
     "output_type": "execute_result"
    }
   ],
   "source": [
    "baskets_grp.sort_values(by = 'quantity', ascending=False).head(10)"
   ]
  },
  {
   "cell_type": "markdown",
   "metadata": {},
   "source": [
    "### Data Statistics\n",
    "1. The average order price is 23.48\n",
    "2. When removing the order prices above 50 the average comes down to 16.17"
   ]
  },
  {
   "cell_type": "code",
   "execution_count": 46,
   "metadata": {},
   "outputs": [
    {
     "data": {
      "text/html": [
       "<div>\n",
       "<style scoped>\n",
       "    .dataframe tbody tr th:only-of-type {\n",
       "        vertical-align: middle;\n",
       "    }\n",
       "\n",
       "    .dataframe tbody tr th {\n",
       "        vertical-align: top;\n",
       "    }\n",
       "\n",
       "    .dataframe thead th {\n",
       "        text-align: right;\n",
       "    }\n",
       "</style>\n",
       "<table border=\"1\" class=\"dataframe\">\n",
       "  <thead>\n",
       "    <tr style=\"text-align: right;\">\n",
       "      <th></th>\n",
       "      <th>price</th>\n",
       "      <th>discount_amount</th>\n",
       "      <th>delivery_discount</th>\n",
       "      <th>order_sales_tax</th>\n",
       "      <th>inperson_discount</th>\n",
       "      <th>inperson_location</th>\n",
       "      <th>sku</th>\n",
       "      <th>discount_used</th>\n",
       "    </tr>\n",
       "  </thead>\n",
       "  <tbody>\n",
       "    <tr>\n",
       "      <th>count</th>\n",
       "      <td>1477.000000</td>\n",
       "      <td>1477.000000</td>\n",
       "      <td>1477.0</td>\n",
       "      <td>1477.000000</td>\n",
       "      <td>0.0</td>\n",
       "      <td>0.0</td>\n",
       "      <td>0.0</td>\n",
       "      <td>1477.000000</td>\n",
       "    </tr>\n",
       "    <tr>\n",
       "      <th>mean</th>\n",
       "      <td>23.486798</td>\n",
       "      <td>0.867691</td>\n",
       "      <td>0.0</td>\n",
       "      <td>0.053643</td>\n",
       "      <td>NaN</td>\n",
       "      <td>NaN</td>\n",
       "      <td>NaN</td>\n",
       "      <td>0.096141</td>\n",
       "    </tr>\n",
       "    <tr>\n",
       "      <th>std</th>\n",
       "      <td>24.287963</td>\n",
       "      <td>3.699515</td>\n",
       "      <td>0.0</td>\n",
       "      <td>0.706277</td>\n",
       "      <td>NaN</td>\n",
       "      <td>NaN</td>\n",
       "      <td>NaN</td>\n",
       "      <td>0.294884</td>\n",
       "    </tr>\n",
       "    <tr>\n",
       "      <th>min</th>\n",
       "      <td>2.000000</td>\n",
       "      <td>0.000000</td>\n",
       "      <td>0.0</td>\n",
       "      <td>0.000000</td>\n",
       "      <td>NaN</td>\n",
       "      <td>NaN</td>\n",
       "      <td>NaN</td>\n",
       "      <td>0.000000</td>\n",
       "    </tr>\n",
       "    <tr>\n",
       "      <th>25%</th>\n",
       "      <td>10.000000</td>\n",
       "      <td>0.000000</td>\n",
       "      <td>0.0</td>\n",
       "      <td>0.000000</td>\n",
       "      <td>NaN</td>\n",
       "      <td>NaN</td>\n",
       "      <td>NaN</td>\n",
       "      <td>0.000000</td>\n",
       "    </tr>\n",
       "    <tr>\n",
       "      <th>50%</th>\n",
       "      <td>13.000000</td>\n",
       "      <td>0.000000</td>\n",
       "      <td>0.0</td>\n",
       "      <td>0.000000</td>\n",
       "      <td>NaN</td>\n",
       "      <td>NaN</td>\n",
       "      <td>NaN</td>\n",
       "      <td>0.000000</td>\n",
       "    </tr>\n",
       "    <tr>\n",
       "      <th>75%</th>\n",
       "      <td>29.000000</td>\n",
       "      <td>0.000000</td>\n",
       "      <td>0.0</td>\n",
       "      <td>0.000000</td>\n",
       "      <td>NaN</td>\n",
       "      <td>NaN</td>\n",
       "      <td>NaN</td>\n",
       "      <td>0.000000</td>\n",
       "    </tr>\n",
       "    <tr>\n",
       "      <th>max</th>\n",
       "      <td>135.000000</td>\n",
       "      <td>57.200000</td>\n",
       "      <td>0.0</td>\n",
       "      <td>16.800000</td>\n",
       "      <td>NaN</td>\n",
       "      <td>NaN</td>\n",
       "      <td>NaN</td>\n",
       "      <td>1.000000</td>\n",
       "    </tr>\n",
       "  </tbody>\n",
       "</table>\n",
       "</div>"
      ],
      "text/plain": [
       "             price  discount_amount  delivery_discount  order_sales_tax  \\\n",
       "count  1477.000000      1477.000000             1477.0      1477.000000   \n",
       "mean     23.486798         0.867691                0.0         0.053643   \n",
       "std      24.287963         3.699515                0.0         0.706277   \n",
       "min       2.000000         0.000000                0.0         0.000000   \n",
       "25%      10.000000         0.000000                0.0         0.000000   \n",
       "50%      13.000000         0.000000                0.0         0.000000   \n",
       "75%      29.000000         0.000000                0.0         0.000000   \n",
       "max     135.000000        57.200000                0.0        16.800000   \n",
       "\n",
       "       inperson_discount  inperson_location  sku  discount_used  \n",
       "count                0.0                0.0  0.0    1477.000000  \n",
       "mean                 NaN                NaN  NaN       0.096141  \n",
       "std                  NaN                NaN  NaN       0.294884  \n",
       "min                  NaN                NaN  NaN       0.000000  \n",
       "25%                  NaN                NaN  NaN       0.000000  \n",
       "50%                  NaN                NaN  NaN       0.000000  \n",
       "75%                  NaN                NaN  NaN       0.000000  \n",
       "max                  NaN                NaN  NaN       1.000000  "
      ]
     },
     "execution_count": 46,
     "metadata": {},
     "output_type": "execute_result"
    }
   ],
   "source": [
    "raw_data.describe()"
   ]
  },
  {
   "cell_type": "code",
   "execution_count": 47,
   "metadata": {},
   "outputs": [
    {
     "data": {
      "text/plain": [
       "23.486797562626947"
      ]
     },
     "execution_count": 47,
     "metadata": {},
     "output_type": "execute_result"
    }
   ],
   "source": [
    "raw_data.price.mean()"
   ]
  },
  {
   "cell_type": "code",
   "execution_count": 74,
   "metadata": {},
   "outputs": [
    {
     "data": {
      "text/plain": [
       "array([[<matplotlib.axes._subplots.AxesSubplot object at 0x7fb58bbbaf50>]],\n",
       "      dtype=object)"
      ]
     },
     "execution_count": 74,
     "metadata": {},
     "output_type": "execute_result"
    },
    {
     "data": {
      "image/png": "[encoded data removed]",
      "text/plain": [
       "<Figure size 576x360 with 1 Axes>"
      ]
     },
     "metadata": {
      "needs_background": "light"
     },
     "output_type": "display_data"
    }
   ],
   "source": [
    "raw_data.hist(column = 'price', bins=20, grid=False, figsize=(8,5), color='blue')"
   ]
  },
  {
   "cell_type": "code",
   "execution_count": 83,
   "metadata": {},
   "outputs": [
    {
     "data": {
      "text/plain": [
       "16.174436090225562"
      ]
     },
     "execution_count": 83,
     "metadata": {},
     "output_type": "execute_result"
    }
   ],
   "source": [
    "mean_d = raw_data[raw_data['price'] <= 50]\n",
    "mean_d.price.mean()"
   ]
  },
  {
   "cell_type": "code",
   "execution_count": 75,
   "metadata": {},
   "outputs": [
    {
     "data": {
      "text/plain": [
       "array([[<matplotlib.axes._subplots.AxesSubplot object at 0x7fb58bd05bd0>]],\n",
       "      dtype=object)"
      ]
     },
     "execution_count": 75,
     "metadata": {},
     "output_type": "execute_result"
    },
    {
     "data": {
      "image/png": "[encoded data removed]",
      "text/plain": [
       "<Figure size 576x360 with 1 Axes>"
      ]
     },
     "metadata": {
      "needs_background": "light"
     },
     "output_type": "display_data"
    }
   ],
   "source": [
    "mean_d.hist(column = 'price', bins=25, grid=False, figsize=(8,5), color='blue')"
   ]
  },
  {
   "cell_type": "markdown",
   "metadata": {},
   "source": [
    "## File output"
   ]
  },
  {
   "cell_type": "code",
   "execution_count": 225,
   "metadata": {},
   "outputs": [],
   "source": [
    "null_items = raw_data[raw_data['item_group']=='']"
   ]
  },
  {
   "cell_type": "code",
   "execution_count": 265,
   "metadata": {},
   "outputs": [],
   "source": [
    "null_items.to_csv('..//Output//non_grouped_items.csv',index=False)"
   ]
  },
  {
   "cell_type": "code",
   "execution_count": 10,
   "metadata": {},
   "outputs": [],
   "source": [
    "raw_data.to_csv('..//Output//full_dataset.csv', index=False)"
   ]
  }
 ],
 "metadata": {
  "kernelspec": {
   "display_name": "Python 3",
   "language": "python",
   "name": "python3"
  },
  "language_info": {
   "codemirror_mode": {
    "name": "ipython",
    "version": 3
   },
   "file_extension": ".py",
   "mimetype": "text/x-python",
   "name": "python",
   "nbconvert_exporter": "python",
   "pygments_lexer": "ipython3",
   "version": "3.7.6"
  }
 },
 "nbformat": 4,
 "nbformat_minor": 4
}
