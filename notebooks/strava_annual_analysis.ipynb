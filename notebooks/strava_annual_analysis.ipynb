{
 "cells": [
  {
   "cell_type": "markdown",
   "metadata": {},
   "source": [
    "## Strava Analysis - BVRT Training\n",
    "\n",
    "### Tasks to complete\n",
    "1. Import and cleanse strava extract\n",
    "2. Create dataframe for analysis\n",
    "3. Compare BVRT training periods to optimise performance in 2021"
   ]
  },
  {
   "cell_type": "code",
   "execution_count": 93,
   "metadata": {},
   "outputs": [],
   "source": [
    "import pandas as pd\n",
    "import numpy as np\n",
    "import datetime\n",
    "import matplotlib.pyplot as plt\n",
    "%matplotlib inline"
   ]
  },
  {
   "cell_type": "markdown",
   "metadata": {},
   "source": [
    "### Import and cleanse strava extract\n",
    "1. Changing column headers to lower case\n",
    "2. Striping out the whitespace\n",
    "3. Replacing spaces with underscores\n",
    "4. Update dataframe to include Run activities and reset index\n",
    "4. Converting the activity date from a string to date time\n",
    "5. Create new date dimension for analysis purposes\n",
    "6. Create dataframe for analysis"
   ]
  },
  {
   "cell_type": "code",
   "execution_count": 10,
   "metadata": {},
   "outputs": [],
   "source": [
    "df = pd.read_csv('activities.csv', usecols=['Activity Date','Activity Type','Elapsed Time','Moving Time','Distance','Elevation Gain'])"
   ]
  },
  {
   "cell_type": "code",
   "execution_count": 11,
   "metadata": {},
   "outputs": [],
   "source": [
    "df.columns = df.columns.str.strip().str.lower().str.replace(' ', '_').str.replace('(', '').str.replace(')', '')\n",
    "df = df[df['activity_type']=='Run']\n",
    "df['activity_date'] = pd.to_datetime(df['activity_date'])\n",
    "df['activity_month'] = df['activity_date'].dt.date\n",
    "df['activity_month'] = df['activity_month'] + pd.offsets.MonthEnd(0) \n",
    "df['year'] = pd.DatetimeIndex(df['activity_date']).year"
   ]
  },
  {
   "cell_type": "markdown",
   "metadata": {},
   "source": [
    "### Create new dataframe\n",
    "1. Create dataframe for 2019 activities\n",
    "2. Add in new columns\n",
    "3. Categorise run distance and time"
   ]
  },
  {
   "cell_type": "code",
   "execution_count": 138,
   "metadata": {},
   "outputs": [],
   "source": [
    "data = df[df['year']==2019].copy()\n",
    "data['activity_mins'] = data['elapsed_time'] / 60\n",
    "data['activity_hrs'] = (data['elapsed_time'] / 60) / 60\n",
    "data['long_run_distance'] = np.where(data['distance']>= 20, True, False)\n",
    "data['long_run_time'] = np.where(data['activity_hrs']>= 2, True, False)\n",
    "data.reset_index(drop=True, inplace=True)"
   ]
  },
  {
   "cell_type": "markdown",
   "metadata": {},
   "source": [
    "### Define what months we want to keep for analysis\n",
    "1. We only want the months from January to June for this analysis"
   ]
  },
  {
   "cell_type": "code",
   "execution_count": 139,
   "metadata": {},
   "outputs": [],
   "source": [
    "keep = ['2019-01-31','2019-02-28','2019-03-31','2019-04-30','2019-05-31','2019-06-30']"
   ]
  },
  {
   "cell_type": "code",
   "execution_count": 140,
   "metadata": {},
   "outputs": [],
   "source": [
    "data = data[data['activity_month'].isin(keep)]"
   ]
  },
  {
   "cell_type": "markdown",
   "metadata": {},
   "source": [
    "### Create dataframe for analysis in 2019 Run activities\n",
    "1. Create dataframe for analysis\n",
    "2. Look at monthly volume\n",
    "3. Look at vertical gain to gauge how much this helps overall training\n",
    "4. How important is time of feet compared to volume\n",
    "4. Compare the training block for BVRT"
   ]
  },
  {
   "cell_type": "code",
   "execution_count": 141,
   "metadata": {},
   "outputs": [],
   "source": [
    "analysis = pd.DataFrame(data, columns=['activity_month','distance','elevation_gain','activity_hrs','long_run_distance','long_run_time'])"
   ]
  },
  {
   "cell_type": "code",
   "execution_count": 142,
   "metadata": {},
   "outputs": [
    {
     "data": {
      "text/html": [
       "<div>\n",
       "<style scoped>\n",
       "    .dataframe tbody tr th:only-of-type {\n",
       "        vertical-align: middle;\n",
       "    }\n",
       "\n",
       "    .dataframe tbody tr th {\n",
       "        vertical-align: top;\n",
       "    }\n",
       "\n",
       "    .dataframe thead th {\n",
       "        text-align: right;\n",
       "    }\n",
       "</style>\n",
       "<table border=\"1\" class=\"dataframe\">\n",
       "  <thead>\n",
       "    <tr style=\"text-align: right;\">\n",
       "      <th></th>\n",
       "      <th>distance</th>\n",
       "      <th>elevation_gain</th>\n",
       "      <th>activity_hrs</th>\n",
       "      <th>long_run_distance</th>\n",
       "      <th>long_run_time</th>\n",
       "    </tr>\n",
       "    <tr>\n",
       "      <th>activity_month</th>\n",
       "      <th></th>\n",
       "      <th></th>\n",
       "      <th></th>\n",
       "      <th></th>\n",
       "      <th></th>\n",
       "    </tr>\n",
       "  </thead>\n",
       "  <tbody>\n",
       "    <tr>\n",
       "      <th>2019-01-31</th>\n",
       "      <td>269.68</td>\n",
       "      <td>4011.023277</td>\n",
       "      <td>26.266667</td>\n",
       "      <td>1.0</td>\n",
       "      <td>1.0</td>\n",
       "    </tr>\n",
       "    <tr>\n",
       "      <th>2019-02-28</th>\n",
       "      <td>252.28</td>\n",
       "      <td>3860.089386</td>\n",
       "      <td>25.581667</td>\n",
       "      <td>0.0</td>\n",
       "      <td>1.0</td>\n",
       "    </tr>\n",
       "    <tr>\n",
       "      <th>2019-03-31</th>\n",
       "      <td>275.64</td>\n",
       "      <td>4513.778149</td>\n",
       "      <td>27.554167</td>\n",
       "      <td>4.0</td>\n",
       "      <td>4.0</td>\n",
       "    </tr>\n",
       "    <tr>\n",
       "      <th>2019-04-30</th>\n",
       "      <td>328.02</td>\n",
       "      <td>4904.748258</td>\n",
       "      <td>31.795556</td>\n",
       "      <td>3.0</td>\n",
       "      <td>3.0</td>\n",
       "    </tr>\n",
       "    <tr>\n",
       "      <th>2019-05-31</th>\n",
       "      <td>335.09</td>\n",
       "      <td>759.000000</td>\n",
       "      <td>32.911944</td>\n",
       "      <td>4.0</td>\n",
       "      <td>4.0</td>\n",
       "    </tr>\n",
       "    <tr>\n",
       "      <th>2019-06-30</th>\n",
       "      <td>372.76</td>\n",
       "      <td>2034.200684</td>\n",
       "      <td>40.205000</td>\n",
       "      <td>3.0</td>\n",
       "      <td>3.0</td>\n",
       "    </tr>\n",
       "  </tbody>\n",
       "</table>\n",
       "</div>"
      ],
      "text/plain": [
       "                distance  elevation_gain  activity_hrs  long_run_distance  \\\n",
       "activity_month                                                              \n",
       "2019-01-31        269.68     4011.023277     26.266667                1.0   \n",
       "2019-02-28        252.28     3860.089386     25.581667                0.0   \n",
       "2019-03-31        275.64     4513.778149     27.554167                4.0   \n",
       "2019-04-30        328.02     4904.748258     31.795556                3.0   \n",
       "2019-05-31        335.09      759.000000     32.911944                4.0   \n",
       "2019-06-30        372.76     2034.200684     40.205000                3.0   \n",
       "\n",
       "                long_run_time  \n",
       "activity_month                 \n",
       "2019-01-31                1.0  \n",
       "2019-02-28                1.0  \n",
       "2019-03-31                4.0  \n",
       "2019-04-30                3.0  \n",
       "2019-05-31                4.0  \n",
       "2019-06-30                3.0  "
      ]
     },
     "execution_count": 142,
     "metadata": {},
     "output_type": "execute_result"
    }
   ],
   "source": [
    "analysis.groupby(['activity_month']).sum()"
   ]
  },
  {
   "cell_type": "markdown",
   "metadata": {},
   "source": [
    "### Create dataframes for monthly volume, vertical gain and time of feet (TOF)"
   ]
  },
  {
   "cell_type": "code",
   "execution_count": 125,
   "metadata": {},
   "outputs": [],
   "source": [
    "volume_analysis = analysis.groupby(['activity_month'])['distance'].sum()"
   ]
  },
  {
   "cell_type": "code",
   "execution_count": 126,
   "metadata": {},
   "outputs": [],
   "source": [
    "vert_analysis = analysis.groupby(['activity_month'])['elevation_gain'].sum()"
   ]
  },
  {
   "cell_type": "code",
   "execution_count": 127,
   "metadata": {},
   "outputs": [],
   "source": [
    "tof_analysis = analysis.groupby(['activity_month'])['activity_hrs'].sum()"
   ]
  },
  {
   "cell_type": "markdown",
   "metadata": {},
   "source": [
    "### Plot the results"
   ]
  },
  {
   "cell_type": "code",
   "execution_count": 128,
   "metadata": {},
   "outputs": [
    {
     "data": {
      "text/plain": [
       "<matplotlib.axes._subplots.AxesSubplot at 0x7fc759854910>"
      ]
     },
     "execution_count": 128,
     "metadata": {},
     "output_type": "execute_result"
    },
    {
     "data": {
      "image/png": "[encoded data removed]",
      "text/plain": [
       "<Figure size 432x288 with 1 Axes>"
      ]
     },
     "metadata": {
      "needs_background": "light"
     },
     "output_type": "display_data"
    }
   ],
   "source": [
    "volume_analysis.plot.bar(x='activity_month', y='distance',title='Monthly Volume')"
   ]
  },
  {
   "cell_type": "code",
   "execution_count": 129,
   "metadata": {},
   "outputs": [
    {
     "data": {
      "text/plain": [
       "<matplotlib.axes._subplots.AxesSubplot at 0x7fc759a43090>"
      ]
     },
     "execution_count": 129,
     "metadata": {},
     "output_type": "execute_result"
    },
    {
     "data": {
      "image/png": "[encoded data removed]",
      "text/plain": [
       "<Figure size 432x288 with 1 Axes>"
      ]
     },
     "metadata": {
      "needs_background": "light"
     },
     "output_type": "display_data"
    }
   ],
   "source": [
    "vert_analysis.plot.bar(x='activity_month', y='elevation_gain',title='Monthly Vert')"
   ]
  },
  {
   "cell_type": "code",
   "execution_count": 130,
   "metadata": {},
   "outputs": [
    {
     "data": {
      "text/plain": [
       "<matplotlib.axes._subplots.AxesSubplot at 0x7fc759ae8b10>"
      ]
     },
     "execution_count": 130,
     "metadata": {},
     "output_type": "execute_result"
    },
    {
     "data": {
      "image/png": "[encoded data removed]",
      "text/plain": [
       "<Figure size 432x288 with 1 Axes>"
      ]
     },
     "metadata": {
      "needs_background": "light"
     },
     "output_type": "display_data"
    }
   ],
   "source": [
    "tof_analysis.plot.bar(x='activity_month', y='activity_hrs',title='Monthly Time on Feet')"
   ]
  }
 ],
 "metadata": {
  "kernelspec": {
   "display_name": "Python 3",
   "language": "python",
   "name": "python3"
  },
  "language_info": {
   "codemirror_mode": {
    "name": "ipython",
    "version": 3
   },
   "file_extension": ".py",
   "mimetype": "text/x-python",
   "name": "python",
   "nbconvert_exporter": "python",
   "pygments_lexer": "ipython3",
   "version": "3.7.6"
  }
 },
 "nbformat": 4,
 "nbformat_minor": 4
}
